{
 "cells": [
  {
   "cell_type": "markdown",
   "id": "cc51d433",
   "metadata": {},
   "source": [
    "![image](images/um_logo.png)"
   ]
  },
  {
   "cell_type": "markdown",
   "id": "e56a4901",
   "metadata": {},
   "source": [
    "# Computación II\n"
   ]
  },
  {
   "cell_type": "markdown",
   "id": "8c696dfe",
   "metadata": {},
   "source": [
    "# ***Sockets IV***"
   ]
  },
  {
   "cell_type": "markdown",
   "id": "3134d8a0",
   "metadata": {},
   "source": [
    "## Sockets UDP\n",
    "Los sockets UDP (User Datagram Protocol) representan un aspecto fundamental en el vasto mundo de las comunicaciones de red. A diferencia de los sockets TCP, que se centran en la transmisión fiable de datos, los sockets UDP abordan una perspectiva más liviana y eficiente, brindando una forma rápida y directa de enviar información en entornos donde la velocidad y la simplicidad son prioritarias sobre la entrega garantizada.\n",
    "\n",
    "En contraste con el flujo continuo de datos ofrecido por TCP, los sockets UDP utilizan datagramas individuales, unidades de información independientes que contienen los datos enviados junto con metadatos como la dirección de origen y destino. Esta abordaje de \"tirar y olvidar\" significa que no hay confirmaciones ni control de flujo incorporados en el protocolo UDP, lo que puede llevar a una entrega no confiable y a la posibilidad de que los datagramas lleguen en un orden diferente al que se enviaron.\n",
    "\n",
    "A pesar de estas limitaciones, los sockets UDP son extremadamente útiles en ciertos contextos. Son adecuados para aplicaciones donde la velocidad es crítica, como transmisiones de video en tiempo real, juegos en línea o servicios de voz. Además, debido a su menor sobrecarga, son preferibles en situaciones donde se prioriza la eficiencia por encima de la integridad completa de los datos.\n",
    "\n",
    "El uso de sockets UDP requiere una mayor responsabilidad por parte del desarrollador en términos de manejo de errores, detección de pérdida de paquetes y control del orden de los datagramas. Sin embargo, este enfoque ofrece la flexibilidad de ajustar el equilibrio entre velocidad y confiabilidad según las necesidades específicas de la aplicación."
   ]
  },
  {
   "cell_type": "markdown",
   "id": "17fe9566",
   "metadata": {},
   "source": [
    "## Programando un servidor"
   ]
  },
  {
   "cell_type": "code",
   "execution_count": null,
   "id": "d141afbf",
   "metadata": {},
   "outputs": [],
   "source": [
    "#!/usr/bin/python3\n",
    "import socket\n",
    "\n",
    "# create a socket object\n",
    "serversocket = socket.socket(socket.AF_INET, socket.SOCK_DGRAM) \n",
    "\n",
    "serversocket.bind(('0.0.0.0', 2323))\n",
    "\n",
    "data, add = serversocket.recvfrom(1024)\n",
    "\n",
    "serversocket.sendto(b'Hola cliente', add)\n",
    "\n"
   ]
  },
  {
   "cell_type": "markdown",
   "id": "f8438128",
   "metadata": {},
   "source": [
    "## Cliente netcat"
   ]
  },
  {
   "cell_type": "raw",
   "id": "58833b87",
   "metadata": {},
   "source": [
    "nc -u <host> <port>"
   ]
  },
  {
   "cell_type": "markdown",
   "id": "87e6c336",
   "metadata": {},
   "source": [
    "En el contexto de las comunicaciones mediante sockets UDP, se presenta la posibilidad de que varios clientes envíen mensajes a un mismo servidor de manera simultánea. Cada cliente puede crear su propio socket UDP y establecer una conexión independiente con el servidor utilizando la dirección IP y el número de puerto correspondientes. A medida que los clientes envían mensajes a través de sus respectivos sockets, el servidor, que también opera mediante sockets UDP, puede recibir estos mensajes de manera independiente y sin necesidad de mantener un estado persistente de conexión. Esta arquitectura permite una comunicación eficiente y paralela entre múltiples clientes y un servidor central, lo que resulta especialmente útil en situaciones donde se necesita procesar solicitudes de manera rápida y sin sobrecargar la red."
   ]
  },
  {
   "cell_type": "markdown",
   "id": "81814576",
   "metadata": {},
   "source": [
    "## Programando un cliente"
   ]
  },
  {
   "cell_type": "code",
   "execution_count": null,
   "id": "3562e2c9",
   "metadata": {},
   "outputs": [],
   "source": [
    "#!/usr/bin/python3\n",
    "import socket\n",
    "\n",
    "clientsocket = socket.socket(socket.AF_INET, socket.SOCK_DGRAM)\n",
    "#clientsocket.bind(('localhost', 0))\n",
    "clientsocket.sendto(b'Hola server', ('localhost', 2323))"
   ]
  },
  {
   "cell_type": "markdown",
   "id": "be9b6be2",
   "metadata": {},
   "source": [
    "## El módulo socketserver"
   ]
  },
  {
   "cell_type": "markdown",
   "id": "ae2e9d97",
   "metadata": {},
   "source": [
    "El módulo socketserver de Python ofrece una manera conveniente y eficiente de crear servidores de red. Al proporcionar una abstracción de alto nivel sobre los sockets, este módulo simplifica el proceso de implementar servidores que escuchan y responden a conexiones de clientes. Con socketserver, es posible desarrollar aplicaciones de servidor sin tener que lidiar directamente con la complejidad de la creación y gestión de sockets individuales. Además, este módulo permite la creación de servidores tanto TCP como UDP, y ofrece una variedad de clases base que puedes extender para personalizar el comportamiento del servidor según tus necesidades. "
   ]
  },
  {
   "cell_type": "markdown",
   "id": "9ef6bf1e",
   "metadata": {},
   "source": [
    "https://docs.python.org/es/3.10/library/socketserver.html"
   ]
  },
  {
   "cell_type": "markdown",
   "id": "3d4f5871",
   "metadata": {},
   "source": [
    "### Esquema de herencia de las clases base"
   ]
  },
  {
   "cell_type": "markdown",
   "id": "30d78d5a",
   "metadata": {},
   "source": [
    "![image](images/socket_server.png)"
   ]
  },
  {
   "cell_type": "markdown",
   "id": "1a950c59",
   "metadata": {},
   "source": [
    "### MixIn"
   ]
  },
  {
   "cell_type": "markdown",
   "id": "763c0336",
   "metadata": {},
   "source": [
    "![image](images/socket_server_mixin.png)"
   ]
  },
  {
   "cell_type": "markdown",
   "id": "497c3030",
   "metadata": {},
   "source": [
    "### Programando un servidor no concurrente"
   ]
  },
  {
   "cell_type": "code",
   "execution_count": null,
   "id": "0d583a51",
   "metadata": {},
   "outputs": [],
   "source": [
    "import socketserver\n",
    "\n",
    "class MyUDPHandler(socketserver.BaseRequestHandler):\n",
    "    \"\"\"\n",
    "    This class works similar to the TCP handler class, except that\n",
    "    self.request consists of a pair of data and client socket, and since\n",
    "    there is no connection the client address must be given explicitly\n",
    "    when sending data back via sendto().\n",
    "    \"\"\"\n",
    "\n",
    "    def handle(self):\n",
    "        data = self.request[0].strip()\n",
    "        socket = self.request[1]\n",
    "        print(\"{} wrote:\".format(self.client_address[0]))\n",
    "        print(data)\n",
    "        socket.sendto(data.upper(), self.client_address)\n",
    "\n",
    "if __name__ == \"__main__\":\n",
    "    HOST, PORT = \"localhost\", 2323\n",
    "    with socketserver.UDPServer((HOST, PORT), MyUDPHandler) as server:\n",
    "        server.serve_forever()"
   ]
  },
  {
   "cell_type": "markdown",
   "id": "8799fa9f",
   "metadata": {},
   "source": [
    "### Programando un servidor concurrente (con cliente de prueba en el mismo código)"
   ]
  },
  {
   "cell_type": "code",
   "execution_count": null,
   "id": "17fba3e5",
   "metadata": {},
   "outputs": [],
   "source": [
    "import socket\n",
    "import threading\n",
    "import socketserver\n",
    "\n",
    "class ThreadedTCPRequestHandler(socketserver.BaseRequestHandler):\n",
    "\n",
    "    def handle(self):\n",
    "        data = str(self.request.recv(1024), 'ascii')\n",
    "        cur_thread = threading.current_thread()\n",
    "        response = bytes(\"{}: {}\".format(cur_thread.name, data), 'ascii')\n",
    "        self.request.sendall(response)\n",
    "\n",
    "class ThreadedTCPServer(socketserver.ThreadingMixIn, socketserver.TCPServer):\n",
    "    pass\n",
    "\n",
    "def client(ip, port, message):\n",
    "    with socket.socket(socket.AF_INET, socket.SOCK_STREAM) as sock:\n",
    "        sock.connect((ip, port))\n",
    "        sock.sendall(bytes(message, 'ascii'))\n",
    "        response = str(sock.recv(1024), 'ascii')\n",
    "        print(\"Received: {}\".format(response))\n",
    "\n",
    "if __name__ == \"__main__\":\n",
    "    # Port 0 means to select an arbitrary unused port\n",
    "    HOST, PORT = \"localhost\", 0\n",
    "\n",
    "    server = ThreadedTCPServer((HOST, PORT), ThreadedTCPRequestHandler)\n",
    "    with server:\n",
    "        ip, port = server.server_address\n",
    "\n",
    "        # Start a thread with the server -- that thread will then start one\n",
    "        # more thread for each request\n",
    "        server_thread = threading.Thread(target=server.serve_forever)\n",
    "        # Exit the server thread when the main thread terminates\n",
    "        server_thread.daemon = True\n",
    "        server_thread.start()\n",
    "        print(\"Server loop running in thread:\", server_thread.name)\n",
    "\n",
    "        client(ip, port, \"Hello World 1\")\n",
    "        client(ip, port, \"Hello World 2\")\n",
    "        client(ip, port, \"Hello World 3\")\n",
    "\n",
    "        server.shutdown()"
   ]
  }
 ],
 "metadata": {
  "kernelspec": {
   "display_name": "Python 3 (ipykernel)",
   "language": "python",
   "name": "python3"
  },
  "language_info": {
   "codemirror_mode": {
    "name": "ipython",
    "version": 3
   },
   "file_extension": ".py",
   "mimetype": "text/x-python",
   "name": "python",
   "nbconvert_exporter": "python",
   "pygments_lexer": "ipython3",
   "version": "3.10.12"
  }
 },
 "nbformat": 4,
 "nbformat_minor": 5
}
