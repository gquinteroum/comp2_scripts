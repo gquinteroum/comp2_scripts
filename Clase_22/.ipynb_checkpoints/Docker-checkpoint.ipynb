{
 "cells": [
  {
   "cell_type": "markdown",
   "id": "cc51d433",
   "metadata": {},
   "source": [
    "![image](images/um_logo.png)"
   ]
  },
  {
   "cell_type": "markdown",
   "id": "e56a4901",
   "metadata": {},
   "source": [
    "# Computación II\n"
   ]
  },
  {
   "cell_type": "markdown",
   "id": "8c696dfe",
   "metadata": {},
   "source": [
    "# ***Docker***\n",
    "\n",
    "https://docs.docker.com/\n",
    "\n",
    "Docker es una plataforma de código abierto que se utiliza para desarrollar, enviar y ejecutar aplicaciones de manera más eficiente. A través de la tecnología de contenedores, Docker permite que las aplicaciones y todos sus componentes (bibliotecas, entorno, archivos de configuración, etc.) se empaqueten en un contenedor único y ligero que se puede ejecutar de manera consistente en cualquier entorno, ya sea en un servidor local, en la nube o en un clúster de servidores.\n",
    "\n",
    "A continuación, se presentan algunos conceptos clave relacionados con Docker:\n",
    "\n",
    "__1. Contenedor:__ Un contenedor Docker es una instancia de una imagen, que contiene la aplicación y todas sus dependencias. Los contenedores son portátiles, lo que significa que funcionarán de la misma manera en cualquier entorno que ejecute Docker.\n",
    "\n",
    "__2. Imagen:__ Una imagen Docker es un paquete que contiene la aplicación, sus dependencias y metadatos necesarios para ejecutarla. Las imágenes se utilizan como plantillas para crear contenedores.\n",
    "\n",
    "__3. Dockerfile:__ Un Dockerfile es un archivo de configuración que describe cómo se debe construir una imagen Docker. Contiene instrucciones para instalar software, copiar archivos y configurar el entorno.\n",
    "\n",
    "__4. Docker Hub:__ Docker Hub es un registro de imágenes públicas y privadas de Docker. Los desarrolladores pueden compartir sus imágenes y también acceder a imágenes creadas por la comunidad.\n",
    "\n",
    "__5. Orquestación de contenedores:__ Docker también incluye herramientas para orquestar y gestionar múltiples contenedores en un entorno de producción, como Docker Swarm y Kubernetes.\n",
    "\n",
    "__6. Microservicios:__ Docker es ampliamente utilizado en arquitecturas de microservicios, donde las aplicaciones se descomponen en componentes pequeños y autosuficientes que se ejecutan en contenedores independientes.\n",
    "\n",
    "Docker ha revolucionado la forma en que se desarrollan, entregan y ejecutan aplicaciones, ya que proporciona un entorno de desarrollo y despliegue consistente, simplificando la gestión de dependencias y garantizando que las aplicaciones se ejecuten de manera predecible en diferentes plataformas. También ha contribuido a la adopción de prácticas como la integración continua y la entrega continua (CI/CD) en el desarrollo de software.\n",
    "\n"
   ]
  },
  {
   "cell_type": "markdown",
   "id": "59a164fa",
   "metadata": {},
   "source": [
    "## Docker vs. Máquina Virtual: Diferencias y Similitudes\n",
    "\n",
    "_En esta comparación, exploraremos las diferencias y similitudes entre Docker y las máquinas virtuales (VMs), dos tecnologías de virtualización ampliamente utilizadas en la industria de la tecnología. Comprender las ventajas y desventajas de ambas opciones es esencial para tomar decisiones informadas sobre cómo gestionar entornos y despliegues de aplicaciones._\n",
    "\n",
    "<img src=\"images/dockervsvm.jpeg\" alt=\"Docker vs. VM\" width=\"250\">\n",
    "\n",
    "- __Docker:__ Docker es una plataforma de contenedores que permite empaquetar aplicaciones y sus dependencias en contenedores ligeros y portátiles. Estos contenedores se ejecutan en un solo sistema operativo y comparten el mismo kernel, lo que los hace eficientes y rápidos. Docker ha revolucionado el despliegue de aplicaciones y se ha convertido en una opción popular en el desarrollo de aplicaciones modernas.\n",
    "\n",
    "- __Máquinas Virtuales (VMs):__ Las máquinas virtuales son entornos virtualizados completos que ejecutan sistemas operativos completos. Cada VM incluye su propio kernel y recursos. Las VMs se utilizan para ejecutar múltiples sistemas operativos en un solo host físico y ofrecen un alto grado de aislamiento entre las aplicaciones y los servicios.\n",
    "\n",
    "### Diferencias Clave\n",
    "\n",
    "1. __Arquitectura:__\n",
    "    - Docker: Utiliza la virtualización a nivel de sistema operativo y comparte un kernel con el sistema anfitrión.\n",
    "    - Máquinas Virtuales: Emulan hardware físico y ejecutan sistemas operativos completos.\n",
    "\n",
    "2. Rendimiento:\n",
    "    - Docker: Es más eficiente en términos de recursos y ofrece un inicio más rápido debido a la compartición del kernel.\n",
    "    - Máquinas Virtuales: Suelen requerir más recursos y tiempo de inicio debido a la emulación de hardware.\n",
    "\n",
    "3. Tamaño y Portabilidad:\n",
    "    - Docker: Los contenedores son pequeños y portátiles, lo que facilita la transferencia y el despliegue.\n",
    "    - Máquinas Virtuales: Los archivos de imagen de VM son más grandes y menos portátiles.\n",
    "\n",
    "4. Aislamiento:\n",
    "    - Docker: Ofrece un buen aislamiento de aplicaciones, pero no es tan fuerte como el de las VMs.\n",
    "    - Máquinas Virtuales: Proporcionan un alto grado de aislamiento entre VMs y son ideales para escenarios en los que se requiere una fuerte separación.\n",
    "\n",
    "5. Gestión de Recursos:\n",
    "    - Docker: Permite una gestión eficiente de recursos y escalabilidad.\n",
    "    - Máquinas Virtuales: Consumen más recursos y pueden ser menos escalables.\n",
    "\n",
    "### Similitudes\n",
    "\n",
    "- Virtualización: Tanto Docker como las máquinas virtuales son tecnologías de virtualización utilizadas para crear entornos aislados y ejecutar aplicaciones o sistemas operativos.\n",
    "\n",
    "- Aislamiento: Ambos enfoques brindan aislamiento, aunque el grado de aislamiento puede variar.\n",
    "\n",
    "- Despliegue Reproducible: Tanto Docker como las VMs permiten un despliegue reproducible de aplicaciones y servicios.\n",
    "\n",
    "\n",
    "\n",
    "<figure>\n",
    "  <img src=\"images/Comparison-of-Docker-Container-and-Virtual-Machine-Architecture-13.png\" alt=\"Docker vs. VM\" width=\"700\">\n",
    "  <figcaption>\n",
    "    <a href=\"https://www.researchgate.net/figure/Comparison-of-Docker-Container-and-Virtual-Machine-Architecture-13_fig1_343764931\" target=\"_blank\">Fuente: https://www.researchgate.net/figure/Comparison-of-Docker-Container-and-Virtual-Machine-Architecture-13_fig1_343764931</a>\n",
    "  </figcaption>\n",
    "</figure>\n",
    "\n",
    "\n",
    "\n",
    "_La elección entre Docker y máquinas virtuales depende de los requisitos específicos del proyecto. Docker es ideal para aplicaciones modernas y microservicios debido a su eficiencia y portabilidad. Las máquinas virtuales son más adecuadas cuando se requiere un alto grado de aislamiento y cuando se necesita ejecutar múltiples sistemas operativos en el mismo hardware físico. La elección dependerá de factores como el rendimiento, la eficiencia, el aislamiento y los recursos disponibles._"
   ]
  },
  {
   "cell_type": "markdown",
   "id": "e5bf7514",
   "metadata": {},
   "source": [
    "## Instalando la primera aplicación (Ubuntu/Mint)\n",
    "\n",
    "https://docs.docker.com/engine/install/\n",
    "\n",
    "https://docs.docker.com/engine/install/ubuntu/\n",
    "\n",
    "### 1. Desinstalar los siguiente paquetes:\n",
    "    - `docker.io`\n",
    "    - `docker-compose`\n",
    "    - `docker-doc`\n",
    "    - `podman-docker`\n"
   ]
  },
  {
   "cell_type": "raw",
   "id": "fe6f2220",
   "metadata": {},
   "source": [
    "$ for pkg in docker.io docker-doc docker-compose podman-docker containerd runc; do sudo apt-get remove $pkg; done"
   ]
  },
  {
   "cell_type": "markdown",
   "id": "ff5981f2",
   "metadata": {},
   "source": [
    "### 2. Configura el repositorio apt de Docker"
   ]
  },
  {
   "cell_type": "raw",
   "id": "0b807cac",
   "metadata": {},
   "source": [
    "# Add Docker's official GPG key:\n",
    "sudo apt-get update\n",
    "sudo apt-get install ca-certificates curl gnupg\n",
    "sudo install -m 0755 -d /etc/apt/keyrings\n",
    "curl -fsSL https://download.docker.com/linux/ubuntu/gpg | sudo gpg --dearmor -o /etc/apt/keyrings/docker.gpg\n",
    "sudo chmod a+r /etc/apt/keyrings/docker.gpg\n",
    "\n",
    "# Add the repository to Apt sources:\n",
    "echo \\\n",
    "  \"deb [arch=\"$(dpkg --print-architecture)\" signed-by=/etc/apt/keyrings/docker.gpg] https://download.docker.com/linux/ubuntu \\\n",
    "  \"$(. /etc/os-release && echo \"$VERSION_CODENAME\")\" stable\" | \\\n",
    "  sudo tee /etc/apt/sources.list.d/docker.list > /dev/null\n",
    "sudo apt-get update"
   ]
  },
  {
   "cell_type": "markdown",
   "id": "9e55800d",
   "metadata": {},
   "source": [
    "> Nota:\n",
    "Si estás utilizando una distribución derivada de Ubuntu, como Linux Mint, posiblemente debás utilizar UBUNTU_CODENAME en lugar de VERSION_CODENAME."
   ]
  },
  {
   "cell_type": "markdown",
   "id": "c529faf8",
   "metadata": {},
   "source": [
    "### 3. Instalar los paquetes de __Docker__"
   ]
  },
  {
   "cell_type": "raw",
   "id": "4691588b",
   "metadata": {},
   "source": [
    "$ sudo apt-get install docker-ce docker-ce-cli containerd.io docker-buildx-plugin docker-compose-plugin"
   ]
  },
  {
   "cell_type": "markdown",
   "id": "3dd7a97c",
   "metadata": {},
   "source": [
    "### 4. Verifica la instalación de Docker Engine"
   ]
  },
  {
   "cell_type": "raw",
   "id": "812946b6",
   "metadata": {},
   "source": [
    "$ sudo docker run hello-world"
   ]
  },
  {
   "cell_type": "markdown",
   "id": "e99bb154",
   "metadata": {},
   "source": [
    "Este comando descarga una imagen de prueba y la ejecuta en un contenedor. Cuando el contenedor se ejecuta, imprime un mensaje de confirmación y luego finaliza."
   ]
  },
  {
   "cell_type": "markdown",
   "id": "c6170c30",
   "metadata": {},
   "source": [
    "> Es posible que sea necesario ejecutar el siguiente comando:\n",
    "> ~~~\n",
    " $ systemctl start docker\n",
    " $ newgrp docker\n",
    "> ~~~"
   ]
  },
  {
   "cell_type": "markdown",
   "id": "5c98cd88",
   "metadata": {},
   "source": [
    "Luego de la instalación en linux, es recomendable revisar y seguir los pasos que se encuentran en https://docs.docker.com/engine/install/linux-postinstall/ "
   ]
  },
  {
   "cell_type": "markdown",
   "id": "8eaa11fb",
   "metadata": {},
   "source": [
    "## Jugando con Docker"
   ]
  },
  {
   "cell_type": "raw",
   "id": "381c5c0c",
   "metadata": {},
   "source": [
    "$ docker run docker/whalesay cowsay Hola, Docker!\n",
    "$ docker run golucky5/pacman"
   ]
  },
  {
   "cell_type": "markdown",
   "id": "cbc252a9",
   "metadata": {},
   "source": [
    "### La persistencia en los contenedores"
   ]
  },
  {
   "cell_type": "raw",
   "id": "a54b3702",
   "metadata": {},
   "source": [
    "$ docker run -it ubuntu\n",
    "$ apt-get install fortune-mod"
   ]
  },
  {
   "cell_type": "markdown",
   "id": "a18e5a5c",
   "metadata": {},
   "source": [
    "## Algunos comandos para trabajar con contenedores e imágenes docker\n",
    "\n",
    "| Comando                                       | Descripción                                       |\n",
    "|:---------------------------------------------|:--------------------------------------------------|\n",
    "| `docker run <imagen>`                        | Crea y ejecuta un nuevo contenedor a partir de una imagen.                           |\n",
    "| `docker ps`                                  | Lista todos los contenedores en ejecución.                                     |\n",
    "| `docker ps -a`                               | Lista todos los contenedores, incluyendo los que no están en ejecución.            |\n",
    "| `docker stop <contenedor>`                   | Detiene un contenedor en ejecución.                                             |\n",
    "| `docker start <contenedor>`                  | Inicia un contenedor detenido previamente.                                      |\n",
    "| `docker restart <contenedor>`                | Reinicia un contenedor en ejecución.                                            |\n",
    "| `docker rm <contenedor>`                     | Elimina un contenedor detenido.                                                 |\n",
    "| `docker rmi <imagen>`                        | Elimina una imagen de Docker.                                                   |\n",
    "| `docker pull <imagen>`                       | Descarga una imagen desde un repositorio remoto.                                |\n",
    "| `docker exec -it <contenedor> <comando>`     | Ejecuta un comando en un contenedor en ejecución.                               |\n",
    "| `docker logs <contenedor>`                   | Muestra los registros (logs) de un contenedor.                                  |\n",
    "| `docker inspect <contenedor>`                | Obtiene información detallada sobre un contenedor.                               |\n",
    "| `docker network ls`                          | Lista las redes disponibles en Docker.                                          |\n",
    "| `docker volume ls`                           | Lista los volúmenes de datos disponibles.                                       |\n",
    "| `docker-compose up`                          | Inicia los servicios definidos en un archivo `docker-compose.yml`.               |\n",
    "| `docker-compose down`                        | Detiene y elimina los servicios definidos en `docker-compose.yml`.               |\n"
   ]
  },
  {
   "cell_type": "markdown",
   "id": "a8a1fcd7",
   "metadata": {},
   "source": [
    "## Creando la primera imagen\n",
    "Crear un directorio donde se encontrará toda tu aplición. Dentro de ese directorio crear dos archivos: app.py; Dockerfile\n",
    "~~~\n",
    "hola_mundo_docker\n",
    "    |\n",
    "    |-> app.py\n",
    "    |-> Dockerfile\n",
    "~~~   "
   ]
  },
  {
   "cell_type": "code",
   "execution_count": null,
   "id": "734fcffb",
   "metadata": {},
   "outputs": [],
   "source": []
  }
 ],
 "metadata": {
  "kernelspec": {
   "display_name": "Python 3 (ipykernel)",
   "language": "python",
   "name": "python3"
  },
  "language_info": {
   "codemirror_mode": {
    "name": "ipython",
    "version": 3
   },
   "file_extension": ".py",
   "mimetype": "text/x-python",
   "name": "python",
   "nbconvert_exporter": "python",
   "pygments_lexer": "ipython3",
   "version": "3.10.12"
  }
 },
 "nbformat": 4,
 "nbformat_minor": 5
}
