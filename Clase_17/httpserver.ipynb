{
 "cells": [
  {
   "cell_type": "markdown",
   "id": "cc51d433",
   "metadata": {},
   "source": [
    "![image](images/um_logo.png)"
   ]
  },
  {
   "cell_type": "markdown",
   "id": "e56a4901",
   "metadata": {},
   "source": [
    "# Computación II\n"
   ]
  },
  {
   "cell_type": "markdown",
   "id": "8c696dfe",
   "metadata": {},
   "source": [
    "# ***Http Server***"
   ]
  },
  {
   "cell_type": "markdown",
   "id": "e0f89571",
   "metadata": {},
   "source": [
    "## Protocolo HTTP\n",
    "https://datatracker.ietf.org/doc/html/rfc2616\n",
    "\n",
    "El Protocolo de Transferencia de Hipertexto (HTTP), en inglés \"Hypertext Transfer Protocol,\" es un protocolo de comunicación utilizado en la World Wide Web (WWW) para la transferencia de datos entre un cliente y un servidor. Fue desarrollado para permitir la recuperación de recursos, como páginas web, imágenes, videos y otros tipos de archivos, desde servidores web y su presentación en el navegador del cliente.\n",
    "\n",
    "HTTP opera en un modelo de solicitud-respuesta, donde un cliente, generalmente un navegador web, realiza solicitudes a un servidor web para obtener recursos específicos. El servidor procesa estas solicitudes y responde con los recursos solicitados, junto con información adicional, como metadatos y códigos de estado HTTP que indican el resultado de la solicitud.\n",
    "\n",
    "El protocolo HTTP se basa en una arquitectura cliente-servidor, donde el cliente inicia la comunicación enviando una solicitud HTTP al servidor, y el servidor responde con la información solicitada. Cada solicitud y respuesta HTTP consta de un conjunto de encabezados (headers) que transportan metadatos sobre la solicitud o la respuesta, seguidos opcionalmente de un cuerpo que puede contener datos, como el contenido de una página web.\n",
    "\n",
    "HTTP es un protocolo sin estado, lo que significa que cada solicitud se procesa de manera independiente, sin conocimiento del estado anterior del cliente o del servidor. Para mantener el estado en aplicaciones web, se utilizan mecanismos adicionales como cookies y sesiones.\n",
    "\n",
    "Además del protocolo HTTP básico, existen varias versiones, siendo las más comunes HTTP/1.1 y HTTP/2. Estas versiones han introducido mejoras en la eficiencia de la transferencia de datos y en la velocidad de carga de las páginas web."
   ]
  },
  {
   "cell_type": "markdown",
   "id": "17fe9566",
   "metadata": {},
   "source": [
    "## Los métodos HTTP \n",
    "Los métodos HTTP, también conocidos como verbos HTTP, son acciones que indican la intención del cliente web o del usuario cuando realiza una solicitud a un servidor web. Cada solicitud HTTP debe incluir un método HTTP para especificar qué acción se debe realizar en el recurso solicitado. Los métodos HTTP son parte fundamental del protocolo HTTP y ayudan a definir el comportamiento de la solicitud. Los métodos HTTP más comunes son:\n",
    "\n",
    "\n",
    "| **Método HTTP** | **Descripción**                                                                              |\n",
    "|:-----------------|:--------------------------------------------------------------------------------------------------------|\n",
    "| GET             | El método GET se utiliza para recuperar información del servidor. Cuando un cliente envía una solicitud GET, está pidiendo al servidor que le envíe un recurso específico, como una página web, una imagen o un archivo. Este método no realiza cambios en el servidor ni en los datos.                                    |\n",
    "| POST            | El método POST se utiliza para enviar datos al servidor para ser procesados. Por ejemplo, cuando un usuario llena un formulario en línea y hace clic en \"Enviar\", los datos del formulario se envían al servidor utilizando POST. Este método se utiliza para crear nuevos recursos en el servidor o actualizar datos existentes y puede contener información confidencial.\n",
    "|\n",
    "| PUT             | El método PUT se utiliza para actualizar un recurso existente en el servidor o para crear uno nuevo si no existe. Es idempotente, lo que significa que realizar la misma solicitud varias veces no debería tener efectos secundarios diferentes.\n",
    "|\n",
    "| DELETE          | El método DELETE se utiliza para eliminar un recurso específico en el servidor. Al igual que PUT, es idempotente, lo que significa que eliminar el mismo recurso varias veces no debería causar problemas.    |\n",
    "| HEAD            | El método HEAD es similar a GET, pero solicita solo los encabezados de respuesta y no el cuerpo del recurso. Se utiliza para obtener información sobre el recurso, como el tamaño o la fecha de modificación, sin descargar todo el contenido.\n",
    "|\n",
    "| PATCH           | El método PATCH se utiliza para realizar modificaciones parciales en un recurso. En lugar de reemplazar completamente el recurso, el servidor aplica los cambios proporcionados en la solicitud PATCH. Esto es útil cuando se necesita actualizar solo una parte de un recurso.\n",
    "|\n",
    "| OPTIONS         | El método OPTIONS se utiliza para solicitar información sobre las opciones de comunicación disponibles para un recurso en particular. Esto incluye los métodos HTTP permitidos, los encabezados compatibles y otras capacidades del servidor.\n",
    "|\n",
    "| CONNECT         | El método CONNECT se utiliza para establecer una conexión de red con un servidor web a través de un proxy. Se utiliza en casos de túneles de comunicación segura, como conexiones SSL/TLS a través de un proxy.\n",
    "|\n",
    "| TRACE           | El método TRACE se utiliza para realizar una prueba de bucle de retroalimentación en la ruta hacia el servidor. No se usa comúnmente y a menudo está deshabilitado por razones de seguridad.\n",
    "|"
   ]
  },
  {
   "cell_type": "markdown",
   "id": "08cf468d",
   "metadata": {},
   "source": [
    "## Ejemplos de solicitudes GET y POST"
   ]
  },
  {
   "cell_type": "raw",
   "id": "7ea199a0",
   "metadata": {},
   "source": [
    "GET /pagina.html HTTP/1.1\n",
    "Host: www.ejemplo.com\n",
    "User-Agent: Mozilla/5.0 (Windows NT 10.0; Win64; x64) AppleWebKit/537.36 (KHTML, like Gecko) Chrome/58.0.3029.110 Safari/537.36\n",
    "Accept: text/html,application/xhtml+xml,application/xml;q=0.9,image/webp,*/*;q=0.8\n",
    "Accept-Language: en-US,en;q=0.5\n",
    "Accept-Encoding: gzip, deflate, br\n",
    "Connection: keep-alive"
   ]
  },
  {
   "cell_type": "markdown",
   "id": "8204dfcb",
   "metadata": {},
   "source": [
    "#### Explicación de los encabezados:\n",
    "\n",
    "- **GET /pagina.html HTTP/1.1**: Indica que estamos haciendo una solicitud GET para obtener el recurso \"pagina.html\" utilizando HTTP versión 1.1.\n",
    "- **Host: www.ejemplo.com**: Especifica el nombre de dominio del servidor al que se realiza la solicitud.\n",
    "- **User-Agent**: Proporciona información sobre el navegador o el agente de usuario que realiza la solicitud.\n",
    "- **Accept**: Indica los tipos de medios que el cliente puede procesar. En este caso, el cliente acepta HTML, XHTML y XML.\n",
    "- **Accept-Language**: Especifica los idiomas que el cliente prefiere para la respuesta.\n",
    "- **Accept-Encoding**: Indica los métodos de compresión que el cliente admite.\n",
    "- **Connection**: keep-alive: Solicita al servidor que mantenga abierta la conexión para posibles solicitudes adicionales.\n",
    "\n",
    "El servidor procesará esta solicitud y responderá con el contenido de \"pagina.html\" si está disponible. Esta es una solicitud GET típica en HTTP."
   ]
  },
  {
   "cell_type": "raw",
   "id": "1b2ef2e3",
   "metadata": {},
   "source": [
    "POST /submit-form HTTP/1.1\n",
    "Host: www.ejemplo.com\n",
    "User-Agent: Mozilla/5.0 (Windows NT 10.0; Win64; x64) AppleWebKit/537.36 (KHTML, like Gecko) Chrome/58.0.3029.110 Safari/537.36\n",
    "Content-Type: application/x-www-form-urlencoded\n",
    "Content-Length: 28\n",
    "Connection: keep-alive\n",
    "\n",
    "nombre=Juan&apellido=Pérez"
   ]
  },
  {
   "cell_type": "markdown",
   "id": "2a79cbb8",
   "metadata": {},
   "source": [
    "### Códigos de estado HTTP\n",
    "Los códigos de estado HTTP se utilizan para comunicar el resultado de una solicitud HTTP entre el servidor y el cliente, lo que permite a los clientes comprender si la solicitud se completó correctamente o si ocurrió un error.\n",
    "\n",
    "#### 2xx - Respuestas Exitosas\n",
    "Estos códigos indican que la solicitud fue recibida, entendida y aceptada con éxito.\n",
    "\n",
    "**200 - OK**: La solicitud se ha procesado correctamente y se ha devuelto una respuesta.\n",
    "\n",
    "**201 - Creado**: La solicitud se ha procesado con éxito y ha resultado en la creación de un nuevo recurso.\n",
    "\n",
    "**204 - Sin contenido**: La solicitud se procesó con éxito, pero no se devolvió contenido en la respuesta.\n",
    "\n",
    "#### 3xx - Redirecciones\n",
    "Estos códigos indican que el cliente debe tomar alguna acción adicional para completar la solicitud.\n",
    "\n",
    "**301 - Movido permanentemente**: La ubicación de la solicitud ha cambiado permanentemente, y el cliente debe actualizar su URL.\n",
    "\n",
    "**302 - Encontrado (Found)**: La solicitud se redirige temporalmente a una nueva ubicación.\n",
    "\n",
    "#### 4xx - Errores del Cliente\n",
    "Estos códigos indican que ha habido un error por parte del cliente en la solicitud.\n",
    "\n",
    "**400 - Solicitud incorrecta**: La solicitud del cliente es incorrecta o no se puede entender.\n",
    "\n",
    "**401 - No autorizado**: El cliente no está autorizado para acceder al recurso solicitado.\n",
    "\n",
    "**403 - Prohibido**: El cliente no tiene permisos para acceder al recurso solicitado.\n",
    "\n",
    "**404 - No encontrado**: El recurso solicitado no se ha encontrado en el servidor.\n",
    "\n",
    "#### 5xx - Errores del Servidor\n",
    "Estos códigos indican que ha habido un error por parte del servidor al procesar la solicitud del cliente.\n",
    "\n",
    "**500 - Error interno del servidor**: Indica que el servidor ha encontrado un error interno al procesar la solicitud y no puede completarla.\n",
    "\n",
    "**503 - Servicio no disponible**: El servidor no puede manejar la solicitud en este momento debido a sobrecarga o mantenimiento."
   ]
  },
  {
   "cell_type": "markdown",
   "id": "3134d8a0",
   "metadata": {},
   "source": [
    "## El módulo http.server\n",
    "El módulo http.server de Python es una parte de la biblioteca estándar de Python que proporciona una forma sencilla de crear servidores web HTTP en Python. Es una herramienta muy útil para el desarrollo web, pruebas locales o para compartir archivos a través de una red. Este módulo permite a los desarrolladores crear rápidamente un servidor web local sin la necesidad de configuraciones complejas.\n",
    "\n",
    "Aquí hay una breve introducción a algunas de las características clave del módulo http.server:\n",
    "\n",
    "1. Servidor Web Simple: El módulo http.server permite crear un servidor web HTTP básico en Python. Puede ser utilizado para servir archivos estáticos, como páginas HTML, imágenes, archivos CSS o JavaScript, desde tu sistema de archivos local.\n",
    "\n",
    "2. Fácil de Usar: Configurar un servidor web local con este módulo es tan simple como ejecutar un comando en la línea de comandos. No se necesita escribir un código personalizado para iniciar un servidor web básico.\n",
    "\n",
    "3. Soporte para Diferentes Versiones de HTTP: El módulo http.server admite tanto HTTP/1.0 como HTTP/1.1, lo que significa que es posible interactuar con él utilizando navegadores web modernos o herramientas que utilizan estas versiones de HTTP.\n",
    "\n",
    "4. Puerto Personalizable: Se puede especificar el puerto en el que se desea ejecutar el servidor web. De forma predeterminada, se ejecuta en el puerto 8000, pero es posible cambiarlo fácilmente.\n",
    "\n",
    "5. Listado de Directorios: Si, al acceder a una URL de un directorio que no contiene un archivo de índice (como index.html), el servidor web generará automáticamente un listado de archivos y directorios en ese directorio para que los usuarios puedan navegar.\n",
    "\n",
    "6. Soporte para CGI (Common Gateway Interface): Es posible ejecutar scripts CGI en tu servidor web con el módulo http.server.\n",
    "\n",
    "7. Ampliamente Personalizable: Aunque es simple de usar, el módulo http.server también es personalizable. Pueden extenderse sus clases y modificar su comportamiento según tus necesidades.\n",
    "\n",
    "8. Seguridad: Es importante tener en cuenta que el módulo http.server no es adecuado para entornos de producción y no debe utilizarse para exponer servidores web públicos. Está destinado principalmente a entornos de desarrollo y pruebas locales."
   ]
  },
  {
   "cell_type": "markdown",
   "id": "bf5a896c",
   "metadata": {},
   "source": [
    "## Programando un servidor http (chiquito)"
   ]
  },
  {
   "cell_type": "code",
   "execution_count": null,
   "id": "8a42690c",
   "metadata": {},
   "outputs": [],
   "source": [
    "import http.server\n",
    "import socketserver\n",
    "\n",
    "PORT = 8000\n",
    "\n",
    "Handler = http.server.SimpleHTTPRequestHandler\n",
    "\n",
    "with socketserver.TCPServer((\"\", PORT), Handler) as httpd:\n",
    "    print(\"serving at port\", PORT)\n",
    "    httpd.serve_forever()"
   ]
  },
  {
   "cell_type": "markdown",
   "id": "4d6673e2",
   "metadata": {},
   "source": [
    "## Programando un servidor http (más grandecito)\n",
    "https://docs.python.org/3/library/http.server.html"
   ]
  },
  {
   "cell_type": "code",
   "execution_count": null,
   "id": "b025b858",
   "metadata": {},
   "outputs": [],
   "source": [
    "import http.server\n",
    "import socketserver\n",
    "\n",
    "# GET / HTTP/1.1\n",
    "\n",
    "PORT = 1111\n",
    "\n",
    "\n",
    "class handler_manual (http.server.BaseHTTPRequestHandler):\n",
    "    def do_GET(self):\n",
    "        print(\"REQUEST: \", self.requestline)\n",
    "        self.send_response(200)\n",
    "        self.send_header(\"Content-Type\", \"text/html\")\n",
    "        self.end_headers()\n",
    "        self.wfile.write(b'hola mundo GET\\n')\n",
    "\n",
    "    def do_POST(self):\n",
    "        print(\"REQUEST: \", self.requestline)\n",
    "        self.send_response(200)\n",
    "        self.send_header(\"Content-Type\", \"text/html\")\n",
    "        self.end_headers()\n",
    "        self.wfile.write(b'hola mundo POST\\n')\n",
    "\n",
    "socketserver.TCPServer.allow_reuse_address = True\n",
    "\n",
    "#myhttphandler = http.server.BaseHTTPRequestHandler\n",
    "#myhttphandler = http.server.SimpleHTTPRequestHandler\n",
    "myhttphandler = handler_manual\n",
    "\n",
    "\n",
    "#httpd = socketserver.TCPServer((\"\", PORT), myhttphandler)\n",
    "httpd = http.server.HTTPServer((\"\", PORT), myhttphandler)\n",
    "#httpd = http.server.ThreadingHTTPServer((\"\", PORT), myhttphandler)\n",
    "\n",
    "print(f\"Opening httpd server at port {PORT}\")\n",
    "\n",
    "httpd.serve_forever()\n",
    "\n",
    "httpd.shutdown()"
   ]
  },
  {
   "cell_type": "markdown",
   "id": "8673cabe",
   "metadata": {},
   "source": [
    "### Utilidad apache bechmarck\n",
    "https://httpd.apache.org/docs/2.4/programs/ab.html"
   ]
  },
  {
   "cell_type": "raw",
   "id": "ede61d37",
   "metadata": {},
   "source": [
    "$ ab -n [cantidad de requerimientos] -c (concurrente) url"
   ]
  }
 ],
 "metadata": {
  "kernelspec": {
   "display_name": "Python 3 (ipykernel)",
   "language": "python",
   "name": "python3"
  },
  "language_info": {
   "codemirror_mode": {
    "name": "ipython",
    "version": 3
   },
   "file_extension": ".py",
   "mimetype": "text/x-python",
   "name": "python",
   "nbconvert_exporter": "python",
   "pygments_lexer": "ipython3",
   "version": "3.10.12"
  }
 },
 "nbformat": 4,
 "nbformat_minor": 5
}
