{
 "cells": [
  {
   "cell_type": "markdown",
   "id": "cc51d433",
   "metadata": {},
   "source": [
    "![image](images/um_logo.png)"
   ]
  },
  {
   "cell_type": "markdown",
   "id": "e56a4901",
   "metadata": {},
   "source": [
    "# Computación II\n"
   ]
  },
  {
   "cell_type": "markdown",
   "id": "8c696dfe",
   "metadata": {},
   "source": [
    "# ***Threads***"
   ]
  },
  {
   "cell_type": "markdown",
   "id": "3134d8a0",
   "metadata": {},
   "source": [
    "## ***Mecanismos de sincronización***"
   ]
  },
  {
   "cell_type": "markdown",
   "id": "f7752f42",
   "metadata": {},
   "source": [
    "En el contexto de la programación concurrente con hilos, los mecanismos de sincronización son herramientas que se utilizan para coordinar y controlar el acceso a recursos compartidos entre múltiples hilos. Estos mecanismos permiten que los hilos se comuniquen y se sincronicen entre sí, evitando condiciones de carrera y garantizando la consistencia y la integridad de los datos.\n",
    "\n",
    "Algunos de los mecanismos de sincronización más comunes son:\n",
    "\n",
    "+ Bloqueo (Lock): Un bloqueo es un mecanismo que permite que un solo hilo acceda a un recurso o sección crítica a la vez. Cuando un hilo adquiere un bloqueo, los demás hilos que intentan adquirirlo deben esperar hasta que el bloqueo se libere.\n",
    "\n",
    "+ Semáforo (Semaphore): Un semáforo es un contador que controla el acceso a un número limitado de recursos. Permite que varios hilos accedan a un recurso al mismo tiempo, siempre que el número total de hilos no supere el límite especificado por el semáforo.\n",
    "\n",
    "+ Barrera (Barrier): Una barrera es un punto de sincronización en el cual los hilos deben esperar hasta que todos los hilos hayan alcanzado dicho punto antes de poder continuar. Se utiliza para asegurar que ciertas tareas o cálculos se completen antes de que los hilos puedan avanzar.\n",
    "\n",
    "+ Variable de condición (Condition): Una condición permite que los hilos esperen hasta que se cumpla una determinada condición antes de continuar su ejecución. Los hilos pueden esperar en una condición hasta que otro hilo los notifique o hasta que se cumpla una condición específica.\n",
    "\n",
    "+ Eventos\n",
    "\n",
    "+ Temporizadores\n",
    "\n",
    "Cada mecanismo tiene sus propias características y aplicaciones, y es importante comprenderlos correctamente y utilizarlos de manera adecuada para evitar problemas de concurrencia."
   ]
  },
  {
   "cell_type": "markdown",
   "id": "85509411",
   "metadata": {},
   "source": [
    "### ***Lock***\n",
    "La primitiva __Lock__ es un mecanismo de sincronización que no pertenece a un hilo en particular cuando está bloqueada. En Python, es actualmente el mecanismo de sincronización de nivel más bajo disponible y se implementa directamente mediante el módulo de extensión _thread.\n",
    "Lock puede estar en uno de dos estados: \"bloqueado\" o \"desbloqueado\". Se crea en el estado desbloqueado. Tiene dos métodos básicos: __acquire()__ (adquirir) y __release()__ (liberar). Cuando el estado está desbloqueado, la llamada a acquire() cambia el estado a bloqueado y retorna inmediatamente. Cuando el estado está bloqueado, la llamada a __acquire()__ se bloquea hasta que otra llamada a __release()__ en otro hilo cambie el estado a desbloqueado. En ese momento, la llamada a __acquire()__ restablece el estado a bloqueado y retorna. El método __release()__ solo debe ser llamado cuando el bloqueo está en estado bloqueado; cambia el estado a desbloqueado y retorna inmediatamente. Si se intenta liberar un bloqueo desbloqueado, se generará una excepción RuntimeError.\n",
    "Los bloqueos también admiten el protocolo de gestión de contexto.\n",
    "Cuando más de un hilo está bloqueado en la llamada a __acquire()__, esperando que el estado cambie a desbloqueado, solo uno de los hilos procederá cuando se llame a __release()__ y se cambie el estado a desbloqueado. No está definido qué hilo de los que están esperando procederá y esto puede variar en diferentes implementaciones.\n",
    "Todas las operaciones de los métodos se ejecutan de forma atómica."
   ]
  },
  {
   "cell_type": "code",
   "execution_count": 27,
   "id": "2214fe1b",
   "metadata": {},
   "outputs": [
    {
     "name": "stdout",
     "output_type": "stream",
     "text": [
      "<Thread(Thread-130 (complete_text), started 139804339598912)>\n",
      "<Thread(Thread-131 (complete_text), started 139803767076416)>\n",
      "<Thread(Thread-132 (complete_text), started 139803750291008)>\n",
      "<Thread(Thread-133 (complete_text), started 139803741898304)>\n",
      "<Thread(Thread-134 (complete_text), started 139804289087040)>\n",
      "Text:\n",
      " Thread-130 (complete_text)\n",
      "Thread-131 (complete_text)\n",
      "Thread-132 (complete_text)\n",
      "Thread-133 (complete_text)\n",
      "Thread-134 (complete_text)\n",
      "\n"
     ]
    }
   ],
   "source": [
    "import threading\n",
    "import time\n",
    "import random\n",
    "\n",
    "# Creamos una instancia de Lock\n",
    "lock = threading.Lock()\n",
    "\n",
    "# Variable compartida entre hilos\n",
    "text = ''\n",
    "\n",
    "# Función que incrementa el contador de forma segura\n",
    "def complete_text():\n",
    "    global text\n",
    "    # Bloqueamos el acceso al contador\n",
    "    lock.acquire()\n",
    "    try:\n",
    "        print(threading.current_thread())\n",
    "        # Sección crítica: incrementamos el contador\n",
    "        for l in threading.current_thread().name:\n",
    "            text += l\n",
    "            time.sleep(random.randint(0, 1)/100)\n",
    "        text += '\\n'\n",
    "    finally:\n",
    "        # Liberamos el bloqueo\n",
    "        lock.release()\n",
    "        pass\n",
    "\n",
    "# Creamos varios hilos que incrementan el contador\n",
    "threads = []\n",
    "for _ in range(5):\n",
    "    t = threading.Thread(target=complete_text)\n",
    "    threads.append(t)\n",
    "    t.start()\n",
    "\n",
    "# Esperamos a que todos los hilos terminen\n",
    "for t in threads:\n",
    "    t.join()\n",
    "\n",
    "# Imprimimos el resultado final\n",
    "print(\"Text:\\n\", text)\n"
   ]
  },
  {
   "cell_type": "code",
   "execution_count": 92,
   "id": "33c2860c",
   "metadata": {},
   "outputs": [
    {
     "name": "stdout",
     "output_type": "stream",
     "text": [
      "Soy el hilo  John y he realizado la tarea.\n",
      "Soy el hilo  Alan y he realizado la tarea.\n",
      "El resultado es: 1.0\n"
     ]
    },
    {
     "data": {
      "image/png": "[encoded data removed]",
      "text/plain": [
       "<Figure size 432x288 with 1 Axes>"
      ]
     },
     "metadata": {
      "needs_background": "light"
     },
     "output_type": "display_data"
    }
   ],
   "source": [
    "import threading\n",
    "import time\n",
    "import random\n",
    "import matplotlib.pyplot as plt\n",
    "\n",
    "x = 1\n",
    "lock = threading.Lock()\n",
    "path = []\n",
    "\n",
    "def forward():\n",
    "    global x\n",
    "    flag = False\n",
    "    lock.acquire()\n",
    "    for i in range(10):\n",
    "        flag = True\n",
    "        time.sleep(random.randint(0, 1)/100) #Simula una tarea\n",
    "        path.append(x)\n",
    "        \n",
    "        x *= 2\n",
    "        \n",
    "    if flag:\n",
    "        print('Soy el hilo ', threading.current_thread().name, 'y he realizado la tarea.')\n",
    "    else:\n",
    "        print('Soy el hilo ', threading.current_thread().name, 'y esta vez no me tocó hacer nada...')\n",
    "    lock.release()\n",
    "    \n",
    "def backward():\n",
    "    global x\n",
    "    flag = False\n",
    "    lock.acquire()\n",
    "    for i in range(10):\n",
    "        flag = True\n",
    "        time.sleep(random.randint(0, 1)/100) #Simula una tarea\n",
    "        path.append(x)\n",
    "        \n",
    "        x /= 2\n",
    "        \n",
    "    if flag:\n",
    "        print('Soy el hilo ', threading.current_thread().name, 'y he realizado la tarea.')\n",
    "    else:\n",
    "        print('Soy el hilo ', threading.current_thread().name, 'y esta vez no me tocó hacer nada...')\n",
    "    lock.release()\n",
    "\n",
    "\n",
    "\n",
    "# Crear dos hilos que calculen el problema\n",
    "thread1 = threading.Thread(target=forward, name='Alan')\n",
    "thread2 = threading.Thread(target=backward, name='John')\n",
    "\n",
    "# Iniciar los hilos\n",
    "thread2.start()\n",
    "thread1.start()\n",
    "\n",
    "\n",
    "# Esperar a que los hilos terminen\n",
    "thread1.join()\n",
    "thread2.join()\n",
    "\n",
    "# Imprimir el valor final del contador\n",
    "print(\"El resultado es:\", x)\n",
    "\n",
    "plt.plot(range(len(path)), path, '--bo')\n",
    "plt.grid(True)\n",
    "plt.show()\n"
   ]
  },
  {
   "cell_type": "markdown",
   "id": "0243989d",
   "metadata": {},
   "source": [
    "### ***Semaphore***\n",
    "Los semáforos son un mecanismo de sincronización fundamental en la ciencia de la computación, y fueron inventados por el reconocido científico de la computación Edsger W. Dijkstra. Aunque originalmente se les denominaba P() y V(), en Python se utilizan los métodos acquire() y release() respectivamente.\n",
    "\n",
    "Un semáforo gestiona un contador interno que se decrementa con cada llamada a acquire() y se incrementa con cada llamada a release(). El valor del contador nunca puede ser menor que cero. Cuando un hilo realiza una llamada a acquire() y encuentra que el contador es cero, se bloquea, esperando a que otro hilo realice una llamada a release() y aumente el contador.\n",
    "\n",
    "Una de las características importantes de los semáforos es que también admiten el protocolo de manejo de contexto en Python. Esto significa que se pueden utilizar en un bloque with statement, lo que garantiza que se realice automáticamente la liberación del semáforo al finalizar el bloque, incluso en caso de excepciones. Esto ayuda a prevenir problemas de bloqueo accidental y asegura una liberación adecuada de recursos.\n",
    "\n",
    "Además, los semáforos son flexibles y se pueden utilizar en diferentes situaciones de programación concurrente para coordinar y controlar el acceso a recursos compartidos. Proporcionan una forma eficiente de gestionar la concurrencia y evitar condiciones de carrera y conflictos."
   ]
  },
  {
   "cell_type": "code",
   "execution_count": 1,
   "id": "44eb81f0",
   "metadata": {
    "scrolled": true
   },
   "outputs": [
    {
     "name": "stdout",
     "output_type": "stream",
     "text": [
      "Realizando tarea crítica \n",
      "Realizando tarea crítica \n",
      "Realizando tarea crítica \n",
      "Realizando tarea crítica \n",
      "Realizando tarea crítica \n"
     ]
    }
   ],
   "source": [
    "import threading\n",
    "import time\n",
    "\n",
    "\n",
    "# Crear un semáforo con un contador inicial. Cambiar el contador para ver los distintos resultados.\n",
    "semaphore = threading.Semaphore(1)\n",
    "\n",
    "def worker():\n",
    "    # Adquirir el semáforo\n",
    "    semaphore.acquire()\n",
    "    try:\n",
    "        # Realizar alguna tarea crítica\n",
    "        time.sleep(2)\n",
    "        print(\"Realizando tarea crítica \")\n",
    "    finally:\n",
    "        # Liberar el semáforo\n",
    "        semaphore.release()\n",
    "#         semaphore.release()\n",
    "#         semaphore.release()\n",
    "#         semaphore.release()\n",
    "#         semaphore.release()\n",
    "#         semaphore.release()\n",
    "#         semaphore.release()\n",
    "\n",
    "# Crear varios hilos que ejecutan la función worker\n",
    "threads = []\n",
    "for _ in range(5):\n",
    "    t = threading.Thread(target=worker)\n",
    "    threads.append(t)\n",
    "    t.start()\n",
    "\n",
    "# Esperar a que todos los hilos terminen\n",
    "for t in threads:\n",
    "    t.join()\n"
   ]
  },
  {
   "cell_type": "markdown",
   "id": "ed7919a7",
   "metadata": {},
   "source": [
    "#### Bounded Semaphore\n",
    "Los BoundedSemaphore son una variante de los semáforos ordinarios que imponen un límite superior en la cantidad de \"permisos\" disponibles. A diferencia de los semáforos ordinarios, donde el contador puede crecer indefinidamente mediante llamadas sucesivas a release(), un BoundedSemaphore limita el contador a un valor máximo predefinido.\n",
    "\n",
    "La principal diferencia entre un BoundedSemaphore y un semáforo ordinario radica en el comportamiento de la función release(). Cuando se llama a release() en un semáforo ordinario, el contador aumenta en uno, lo que permite que otro hilo adquiera el semáforo. Sin embargo, en un BoundedSemaphore, si el contador ya alcanzó el valor máximo permitido, la llamada a release() no incrementa el contador y simplemente se ignora.\n",
    "\n",
    "Esto significa que un BoundedSemaphore es útil cuando se necesita limitar la cantidad máxima de permisos disponibles. Puede ser utilizado para controlar el acceso a un recurso compartido o para limitar la cantidad de hilos que pueden realizar ciertas operaciones simultáneamente."
   ]
  },
  {
   "cell_type": "code",
   "execution_count": 5,
   "id": "d39ca249",
   "metadata": {},
   "outputs": [
    {
     "name": "stderr",
     "output_type": "stream",
     "text": [
      "Exception in thread Exception in thread Thread-32 (worker):\n",
      "Traceback (most recent call last):\n",
      "  File \"/usr/lib/python3.10/threading.py\", line 1016, in _bootstrap_inner\n",
      "Exception in thread Thread-33 (worker):\n",
      "Traceback (most recent call last):\n",
      "  File \"/usr/lib/python3.10/threading.py\", line 1016, in _bootstrap_inner\n",
      "Thread-31 (worker):\n",
      "Traceback (most recent call last):\n",
      "  File \"/usr/lib/python3.10/threading.py\", line 1016, in _bootstrap_inner\n",
      "    self.run()\n",
      "  File \"/usr/lib/python3.10/threading.py\", line 953, in run\n",
      "    self.run()\n",
      "  File \"/usr/lib/python3.10/threading.py\", line 953, in run\n",
      "    self.run()\n",
      "  File \"/usr/lib/python3.10/threading.py\", line 953, in run\n",
      "    self._target(*self._args, **self._kwargs)\n",
      "  File \"/tmp/ipykernel_6000/3767483672.py\", line 19, in worker\n",
      "    self._target(*self._args, **self._kwargs)\n",
      "  File \"/tmp/ipykernel_6000/3767483672.py\", line 16, in worker\n",
      "    self._target(*self._args, **self._kwargs)\n",
      "  File \"/tmp/ipykernel_6000/3767483672.py\", line 16, in worker\n",
      "  File \"/usr/lib/python3.10/threading.py\", line 528, in release\n",
      "  File \"/usr/lib/python3.10/threading.py\", line 528, in release\n",
      "    raise ValueError(\"Semaphore released too many times\")\n",
      "ValueError: Semaphore released too many times\n",
      "    raise ValueError(\"Semaphore released too many times\")\n",
      "ValueError: Semaphore released too many times\n",
      "  File \"/usr/lib/python3.10/threading.py\", line 528, in release\n",
      "    raise ValueError(\"Semaphore released too many times\")\n",
      "ValueError: Semaphore released too many times\n"
     ]
    },
    {
     "name": "stdout",
     "output_type": "stream",
     "text": [
      "Realizando tarea crítica\n",
      "Realizando tarea crítica\n",
      "Realizando tarea crítica\n"
     ]
    },
    {
     "name": "stderr",
     "output_type": "stream",
     "text": [
      "Exception in thread Thread-35 (worker):\n",
      "Traceback (most recent call last):\n",
      "  File \"/usr/lib/python3.10/threading.py\", line 1016, in _bootstrap_inner\n",
      "Exception in thread Thread-34 (worker):\n",
      "Traceback (most recent call last):\n",
      "  File \"/usr/lib/python3.10/threading.py\", line 1016, in _bootstrap_inner\n",
      "Exception in thread Thread-36 (worker):\n",
      "Traceback (most recent call last):\n",
      "  File \"/usr/lib/python3.10/threading.py\", line 1016, in _bootstrap_inner\n",
      "    self.run()\n",
      "  File \"/usr/lib/python3.10/threading.py\", line 953, in run\n",
      "    self._target(*self._args, **self._kwargs)\n",
      "  File \"/tmp/ipykernel_6000/3767483672.py\", line 19, in worker\n",
      "    self.run()\n",
      "  File \"/usr/lib/python3.10/threading.py\", line 953, in run\n",
      "    self.run()\n",
      "  File \"/usr/lib/python3.10/threading.py\", line 953, in run\n",
      "    self._target(*self._args, **self._kwargs)\n",
      "  File \"/tmp/ipykernel_6000/3767483672.py\", line 16, in worker\n",
      "  File \"/usr/lib/python3.10/threading.py\", line 528, in release\n",
      "    raise ValueError(\"Semaphore released too many times\")\n",
      "ValueError: Semaphore released too many times\n",
      "  File \"/usr/lib/python3.10/threading.py\", line 528, in release\n",
      "    raise ValueError(\"Semaphore released too many times\")\n",
      "ValueError: Semaphore released too many times\n",
      "    self._target(*self._args, **self._kwargs)\n",
      "  File \"/tmp/ipykernel_6000/3767483672.py\", line 17, in worker\n",
      "  File \"/usr/lib/python3.10/threading.py\", line 528, in release\n",
      "    raise ValueError(\"Semaphore released too many times\")\n",
      "ValueError: Semaphore released too many times\n"
     ]
    },
    {
     "name": "stdout",
     "output_type": "stream",
     "text": [
      "Realizando tarea críticaRealizando tarea crítica\n",
      "\n",
      "Realizando tarea crítica\n"
     ]
    },
    {
     "name": "stderr",
     "output_type": "stream",
     "text": [
      "Exception in thread Thread-37 (worker):\n",
      "Traceback (most recent call last):\n",
      "  File \"/usr/lib/python3.10/threading.py\", line 1016, in _bootstrap_inner\n",
      "    self.run()\n",
      "  File \"/usr/lib/python3.10/threading.py\", line 953, in run\n",
      "    self._target(*self._args, **self._kwargs)\n",
      "  File \"/tmp/ipykernel_6000/3767483672.py\", line 16, in worker\n",
      "  File \"/usr/lib/python3.10/threading.py\", line 528, in release\n",
      "    raise ValueError(\"Semaphore released too many times\")\n",
      "ValueError: Semaphore released too many times\n"
     ]
    },
    {
     "name": "stdout",
     "output_type": "stream",
     "text": [
      "Realizando tarea crítica\n"
     ]
    }
   ],
   "source": [
    "import threading\n",
    "import time\n",
    "\n",
    "# Crear un BoundedSemaphore con un límite de 3 permisos\n",
    "semaphore = threading.BoundedSemaphore(3)\n",
    "\n",
    "def worker():\n",
    "    # Adquirir el semáforo\n",
    "    semaphore.acquire()\n",
    "    try:\n",
    "        # Realizar alguna tarea crítica\n",
    "        time.sleep(2)\n",
    "        print(\"Realizando tarea crítica\")\n",
    "    finally:\n",
    "        # Liberar el semáforo\n",
    "        semaphore.release()\n",
    "        semaphore.release()\n",
    "        semaphore.release()\n",
    "        semaphore.release()\n",
    "#         semaphore.release()\n",
    "#         semaphore.release()\n",
    "#         semaphore.release()\n",
    "\n",
    "# Crear varios hilos que ejecutan la función worker\n",
    "threads = []\n",
    "for _ in range(7):\n",
    "    t = threading.Thread(target=worker)\n",
    "    threads.append(t)\n",
    "    t.start()\n",
    "\n",
    "# Esperar a que todos los hilos terminen\n",
    "for t in threads:\n",
    "    t.join()\n"
   ]
  },
  {
   "cell_type": "markdown",
   "id": "8cbd2b7f",
   "metadata": {},
   "source": [
    "### ***Barrier***\n",
    "Las Barrier proporcionan una primitiva de sincronización simple para un número fijo de hilos que necesitan esperarse mutuamente. Cada uno de los hilos intenta pasar la barrera llamando al método wait() y quedará bloqueado hasta que todos los hilos hayan realizado sus llamadas a wait(). En este punto, los hilos son liberados simultáneamente.\n",
    "\n",
    "Las Barrier pueden ser reutilizadas cualquier cantidad de veces para el mismo número de hilos. Esto significa que una vez que los hilos han pasado la barrera y han sido liberados, la Barrier puede ser reiniciada y utilizada nuevamente para sincronizar el mismo número de hilos en futuras iteraciones o tareas.\n",
    "\n",
    "Además, es importante destacar que las Barrier proporcionan un punto de sincronización donde los hilos pueden coordinar su progreso y asegurarse de que todos hayan alcanzado cierto punto antes de continuar con la ejecución. Esto es especialmente útil en situaciones donde se requiere una sincronización en etapas específicas de un algoritmo o proceso.\n",
    "\n",
    "Un ejemplo de uso común de la Barrier es en aplicaciones donde se necesita realizar un cálculo paralelo distribuido en múltiples hilos y se requiere que todos los hilos completen ciertas tareas antes de pasar a la siguiente etapa del cálculo. Las Barrier se convierten en un punto de sincronización donde cada hilo espera a que todos los demás hayan terminado su trabajo antes de continuar."
   ]
  },
  {
   "cell_type": "code",
   "execution_count": 10,
   "id": "d020fc06",
   "metadata": {},
   "outputs": [
    {
     "name": "stdout",
     "output_type": "stream",
     "text": [
      "Tarea antes de la barrera. Hilo:  Thread-54 (worker)\n",
      "\n",
      "Tarea antes de la barrera. Hilo:  Thread-55 (worker)\n",
      "\n",
      "Tarea antes de la barrera. Hilo:  Thread-56 (worker)\n",
      "\n",
      "Tarea antes de la barrera. Hilo:  Thread-57 (worker)\n",
      "\n",
      "Tarea después de la barrera. Hilo:  Thread-57 (worker)\n",
      "\n",
      "Tarea después de la barrera. Hilo:  Thread-54 (worker)\n",
      "\n",
      "Tarea después de la barrera. Hilo:  Thread-55 (worker)\n",
      "\n",
      "Tarea después de la barrera. Hilo:  Thread-56 (worker)\n",
      "\n"
     ]
    }
   ],
   "source": [
    "import threading\n",
    "import time\n",
    "import random\n",
    "\n",
    "# Crear una Barrier para 4 hilos\n",
    "barrier = threading.Barrier(4)\n",
    "\n",
    "def worker():\n",
    "    # Realizar alguna tarea antes de la barrera\n",
    "    print(\"Tarea antes de la barrera. Hilo: \", threading.current_thread().name + '\\n')\n",
    "    time.sleep(random.randint(0, 1))\n",
    "    # Esperar a que todos los hilos lleguen a la barrera\n",
    "    barrier.wait()\n",
    "\n",
    "    # Realizar alguna tarea después de la barrera\n",
    "    print(\"Tarea después de la barrera. Hilo: \", threading.current_thread().name + '\\n')\n",
    "\n",
    "# Crear los hilos que ejecutan la función worker\n",
    "threads = []\n",
    "for _ in range(4):\n",
    "    t = threading.Thread(target=worker)\n",
    "    threads.append(t)\n",
    "    t.start()\n",
    "\n",
    "# Esperar a que todos los hilos terminen\n",
    "for t in threads:\n",
    "    t.join()"
   ]
  },
  {
   "cell_type": "markdown",
   "id": "432d8598",
   "metadata": {},
   "source": [
    "### ***Condition***\n",
    "Una condición variable está siempre asociada a algún tipo de bloqueo; este puede ser pasado como argumento o se creará uno por defecto. Pasar un bloqueo como argumento es útil cuando varias variables de condición deben compartir el mismo bloqueo. El bloqueo forma parte del objeto de la condición: no es necesario hacer un seguimiento por separado.\n",
    "\n",
    "Una variable de condición cumple con el protocolo de gestión de contexto: al utilizar la declaración with, se adquiere el bloqueo asociado durante la duración del bloque incluido. Los métodos **acquire()** y **release()** también llaman a los métodos correspondientes del bloqueo asociado.\n",
    "\n",
    "Los demás métodos deben ser llamados con el bloqueo asociado en posesión. El método **wait()** libera el bloqueo y luego se bloquea hasta que otro hilo lo despierte llamando a **notify()** o **notify_all()**. Una vez que se despierta, **wait()** vuelve a adquirir el bloqueo y retorna. También es posible especificar un tiempo de espera.\n",
    "\n",
    "El método **notify()** despierta a uno de los hilos que están esperando a la variable de condición, si hay alguno esperando. El método **notify_all()** despierta a todos los hilos que están esperando a la variable de condición.\n",
    "\n",
    "Nota: los métodos **notify()** y **notify_all()** no liberan el **Lock**; esto significa que el hilo o hilos despertados no retornarán de su llamada a **wait()** inmediatamente, sino solo cuando el hilo que llamó a **notify()** o **notify_all()** finalmente renuncie a la propiedad del bloqueo.\n",
    "\n",
    "El estilo de programación típico que utiliza variables de condición utiliza el bloqueo para sincronizar el acceso a algún estado compartido; los hilos interesados en un cambio particular de estado llaman a **wait()** repetidamente hasta que ven el estado deseado, mientras que los hilos que modifican el estado llaman a **notify()** o **notify_all()** cuando cambian el estado de tal manera que podría ser un estado deseado para uno de los hilos en espera."
   ]
  },
  {
   "cell_type": "code",
   "execution_count": 21,
   "id": "e5c9e2c8",
   "metadata": {},
   "outputs": [
    {
     "name": "stdout",
     "output_type": "stream",
     "text": [
      "hilo1 Esperando a que finalice el cálculo... \n",
      "hilo2 Generando números... \n",
      "Números impares generados\n",
      "Elementos: 101\n",
      "Suma de los cuadrados: 314965\n"
     ]
    }
   ],
   "source": [
    "import threading, random\n",
    "import numpy as np\n",
    "\n",
    "def consumer(condition):\n",
    "    global buffer\n",
    "    print(threading.current_thread().name, 'Esperando a que finalice el cálculo... ')\n",
    "    with condition:\n",
    "        condition.wait()\n",
    "        print('Elementos:', len(buffer))\n",
    "        b = np.asarray(buffer)\n",
    "        print('Suma de los cuadrados:', np.sum(b**2))\n",
    "\n",
    "def producer(condition):\n",
    "    global buffer\n",
    "    print(threading.current_thread().name, 'Generando números... ')\n",
    "    with condition:\n",
    "        while len(buffer) <= 100:\n",
    "            n = random.randint(1, 100)\n",
    "            if n %2:\n",
    "                buffer.append(n)\n",
    "                \n",
    "        print('Números impares generados')\n",
    "        condition.notify_all()\n",
    "     \n",
    "buffer = []\n",
    "condition = threading.Condition()\n",
    "thread1 = threading.Thread(name='hilo1', target=consumer, args=(condition,))                      \n",
    "thread2 = threading.Thread(name='hilo2', target=producer, args=(condition,))\n",
    "\n",
    "thread1.start()\n",
    "thread2.start()"
   ]
  },
  {
   "cell_type": "markdown",
   "id": "e8b4d297",
   "metadata": {},
   "source": [
    "### ***Event***\n",
    "El objeto de evento es un mecanismo básico de comunicación entre hilos en Python, donde un hilo señala un evento y otro hilo espera a que ocurra ese evento.\n",
    "\n",
    "Un objeto de evento tiene una marca interna que puede ser establecida como verdadera mediante el método **set()** y restablecida a falsa mediante el método **clear()**. Cuando un hilo llama al método **wait()**, este se bloquea hasta que la marca sea verdadera.\n",
    "\n",
    "El objeto de evento también puede ser utilizado con un timeout opcional en el método **wait()**, lo que permite que el hilo espere un tiempo determinado antes de continuar la ejecución.\n",
    "\n",
    "Además, el objeto de evento puede ser utilizado en conjunto con otros mecanismos de sincronización, como bloqueos y colas, para construir estructuras de programación más complejas.\n",
    "\n",
    "Es importante tener en cuenta que el objeto de evento solo permite la comunicación entre dos hilos, donde uno señala el evento y otro lo espera. Si se necesita una comunicación más compleja o una coordinación entre múltiples hilos, pueden ser necesarios otros mecanismos de sincronización más avanzados, como semáforos o barreras.\n",
    "\n",
    "El objeto de evento es una herramienta poderosa para controlar la sincronización entre hilos y asegurar que los hilos se ejecuten en el orden deseado y esperen por eventos específicos antes de continuar su ejecución."
   ]
  },
  {
   "cell_type": "code",
   "execution_count": 24,
   "id": "485056f8",
   "metadata": {},
   "outputs": [
    {
     "name": "stdout",
     "output_type": "stream",
     "text": [
      "Esperando al evento...\n",
      "10\n",
      "86\n",
      "68\n",
      "53\n",
      "5\n",
      "36\n",
      "56\n",
      "90\n",
      "83\n",
      "88\n",
      "74\n",
      "78\n",
      "93\n",
      "100\n",
      "21\n",
      "100\n",
      "18\n",
      "46\n",
      "35\n",
      "24\n",
      "46\n",
      "65\n",
      "44\n",
      "7\n",
      "16\n",
      "34\n",
      "100\n",
      "32\n",
      "64\n",
      "38\n",
      "30\n",
      "41\n",
      "86\n",
      "58\n",
      "33\n",
      "78\n",
      "57\n",
      "45\n",
      "2\n",
      "66\n",
      "80\n",
      "8\n",
      "61\n",
      "30\n",
      "97\n",
      "80\n",
      "10\n",
      "0\n",
      "¡El evento ha ocurrido!\n",
      "Programa finalizado\n"
     ]
    }
   ],
   "source": [
    "import threading, random\n",
    "\n",
    "# Creamos el objeto de evento\n",
    "event = threading.Event()\n",
    "\n",
    "# Definimos una función que espera al evento\n",
    "def wait_for_event():\n",
    "    print(\"Esperando al evento...\")\n",
    "    event.wait()\n",
    "    print(\"¡El evento ha ocurrido!\")\n",
    "\n",
    "# Definimos una función que desencadena el evento\n",
    "def trigger_event():\n",
    "    while True:\n",
    "        n = random.randint(0, 100)\n",
    "        print(n)\n",
    "        if n == 0:\n",
    "            event.set()\n",
    "            break\n",
    "\n",
    "# Creamos los hilos para esperar y desencadenar el evento\n",
    "wait_thread = threading.Thread(target=wait_for_event)\n",
    "trigger_thread = threading.Thread(target=trigger_event)\n",
    "\n",
    "# Iniciamos los hilos\n",
    "wait_thread.start()\n",
    "trigger_thread.start()\n",
    "\n",
    "# Esperamos a que los hilos terminen\n",
    "wait_thread.join()\n",
    "trigger_thread.join()\n",
    "\n",
    "print(\"Programa finalizado\")\n"
   ]
  },
  {
   "cell_type": "markdown",
   "id": "0e32b62a",
   "metadata": {},
   "source": [
    "### ***Timer***\n",
    "La clase Timer del módulo threading de Python representa una acción que se ejecutará después de que haya transcurrido un cierto período de tiempo, actuando como un temporizador. Timer es una subclase de Thread, lo que permite crear y gestionar hilos personalizados.\n",
    "\n",
    "Para utilizar un Timer, se debe llamar al método **start()**, de manera similar a como se inician los hilos. Esto iniciará el temporizador y comenzará a contar el tiempo especificado. Si en algún momento se desea detener el temporizador antes de que se ejecute la acción programada, se puede llamar al método **cancel()**. Es importante tener en cuenta que el intervalo de tiempo que el temporizador esperará antes de ejecutar su acción puede no ser exactamente el mismo que el intervalo especificado por el usuario debido a factores como la carga del sistema y la precisión del temporizador.\n",
    "\n",
    "Además de los métodos mencionados, la clase Timer proporciona otros métodos y atributos útiles. Por ejemplo, se puede utilizar el método **is_alive()** para verificar si el temporizador está en ejecución, y el método **join()** para esperar a que el temporizador finalice su ejecución.\n",
    "\n",
    "Es relevante destacar que los temporizadores de la clase Timer utilizan hilos subyacentes para realizar el conteo del tiempo y ejecutar la acción programada. Esto implica que si se utilizan múltiples temporizadores al mismo tiempo, puede haber problemas de concurrencia. Es necesario tomar precauciones al acceder a recursos compartidos dentro de la acción del temporizador para evitar condiciones de carrera.\n"
   ]
  },
  {
   "cell_type": "code",
   "execution_count": 26,
   "id": "f45fd5ce",
   "metadata": {},
   "outputs": [
    {
     "name": "stdout",
     "output_type": "stream",
     "text": [
      "Realizando otras tareas...\n",
      "¡Hola desde el temporizador!\n",
      "Fin del programa\n"
     ]
    }
   ],
   "source": [
    "import threading\n",
    "\n",
    "def print_message():\n",
    "    print(\"¡Hola desde el temporizador!\")\n",
    "\n",
    "# Crear un temporizador que ejecute la función print_message después de 5 segundos\n",
    "timer = threading.Timer(5, print_message)\n",
    "\n",
    "# Iniciar el temporizador\n",
    "timer.start()\n",
    "\n",
    "# Realizar otras tareas mientras el temporizador está en ejecución\n",
    "print(\"Realizando otras tareas...\")\n",
    "\n",
    "# Esperar a que el temporizador finalice su ejecución\n",
    "timer.join()\n",
    "\n",
    "# El programa continuará aquí después de que el temporizador haya terminado\n",
    "\n",
    "print(\"Fin del programa\")"
   ]
  },
  {
   "cell_type": "code",
   "execution_count": null,
   "id": "012b9f15",
   "metadata": {},
   "outputs": [],
   "source": []
  }
 ],
 "metadata": {
  "kernelspec": {
   "display_name": "Python 3 (ipykernel)",
   "language": "python",
   "name": "python3"
  },
  "language_info": {
   "codemirror_mode": {
    "name": "ipython",
    "version": 3
   },
   "file_extension": ".py",
   "mimetype": "text/x-python",
   "name": "python",
   "nbconvert_exporter": "python",
   "pygments_lexer": "ipython3",
   "version": "3.10.6"
  }
 },
 "nbformat": 4,
 "nbformat_minor": 5
}
