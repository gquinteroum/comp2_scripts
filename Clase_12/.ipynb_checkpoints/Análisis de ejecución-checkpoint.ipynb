{
 "cells": [
  {
   "cell_type": "markdown",
   "id": "cc51d433",
   "metadata": {},
   "source": [
    "![image](images/um_logo.png)"
   ]
  },
  {
   "cell_type": "markdown",
   "id": "e56a4901",
   "metadata": {},
   "source": [
    "# Computación II\n"
   ]
  },
  {
   "cell_type": "markdown",
   "id": "8c696dfe",
   "metadata": {},
   "source": [
    "# ***Análisis de ejecución y exclusión mutua***"
   ]
  },
  {
   "cell_type": "markdown",
   "id": "3134d8a0",
   "metadata": {},
   "source": [
    "## ***Análisis detallado***"
   ]
  },
  {
   "cell_type": "markdown",
   "id": "f7752f42",
   "metadata": {},
   "source": [
    "En el siguiente fragmento de código dos hilos distintos realizan operaciones de suma y sesta sobre una misma variable global. \n",
    "Para poder ver la diferencia entre el resultado esperado y lo realmente obtenido se recomienda su ejecución en python 2.\n"
   ]
  },
  {
   "cell_type": "code",
   "execution_count": 4,
   "id": "2214fe1b",
   "metadata": {},
   "outputs": [
    {
     "name": "stdout",
     "output_type": "stream",
     "text": [
      "Resultado:\n",
      " 0\n"
     ]
    }
   ],
   "source": [
    "import threading\n",
    "\n",
    "\n",
    "# Variable compartida entre hilos\n",
    "cont = 0\n",
    "loop_amount = 100 #Incrementar la cantidad de incrementos y decrementos\n",
    "\n",
    "# Función que incrementa el contador de forma segura\n",
    "def add(loop_amount):\n",
    "    global cont\n",
    "    for i in range(loop_amount):\n",
    "        cont = cont + 1\n",
    "\n",
    "def sub(loop_amount):\n",
    "    global cont\n",
    "    for i in range(loop_amount):\n",
    "        cont = cont - 1\n",
    "\n",
    "# Creamos dos hilos que incrementan y decrementan el contador\n",
    "t1 = threading.Thread(target=add, args=(loop_amount,))\n",
    "t2 = threading.Thread(target=sub, args=(loop_amount,))\n",
    "t1.start()\n",
    "t2.start()\n",
    "\n",
    "# Esperamos a que todos los hilos terminen\n",
    "t1.join()\n",
    "t2.join()\n",
    "\n",
    "\n",
    "# Imprimimos el resultado final\n",
    "print (\"Resultado:\\n\", cont)\n"
   ]
  },
  {
   "cell_type": "markdown",
   "id": "8bb3db7a",
   "metadata": {},
   "source": [
    "El siguiente ejemplo escrito en C, muestra la misma tarea. Este programa en generál mostrará la diferencia entre, el valor esperado y el obtenido."
   ]
  },
  {
   "cell_type": "code",
   "execution_count": null,
   "id": "b70adf3f",
   "metadata": {},
   "outputs": [],
   "source": [
    "/*\n",
    " ** Author: Carlos Taffernaberry <ctaffer@unsl.edu.ar> \n",
    " **\n",
    " ** This program is free software; you can redistribute it and/or modify it\n",
    " ** under the terms of the GNU General Public License as published by the\n",
    " ** Free Software Foundation; either version 2 of the License, or (at your\n",
    " ** option) any later version.  See <http://www.fsf.org/copyleft/gpl.txt>.\n",
    " **\n",
    " ** This program is distributed in the hope that it will be useful, but\n",
    " ** WITHOUT ANY WARRANTY; without even the implied warranty of MERCHANTABILITY\n",
    " ** or FITNESS FOR A PARTICULAR PURPOSE.  See the GNU General Public License\n",
    " ** for more details.\n",
    " **/\n",
    "#include <pthread.h>\n",
    "#include <stdio.h>\n",
    "#include <stdlib.h>\n",
    "#include <unistd.h>\n",
    "\n",
    "int glob = 200;\n",
    "\n",
    "void *hilo_suma()\n",
    "{\n",
    "    printf(\"Hello World! .... soy yo , el hilo_suma \\n\");\n",
    "    int i;\n",
    "    for (i = 0; i < 100000; i++) {\n",
    "        glob++;\n",
    "    }\n",
    "    pthread_exit(NULL);\n",
    "}\n",
    "\n",
    "void *hilo_resta()\n",
    "{\n",
    "    printf(\"Hello World! .... soy yo , el hilo_resta \\n\");\n",
    "    int i;\n",
    "    for (i = 0; i < 100000; i++) {\n",
    "        glob--;\n",
    "    }\n",
    "    pthread_exit(NULL);\n",
    "}\n",
    "\n",
    "int main(int argc, char *argv[])\n",
    "{\n",
    "    pthread_t hilo_s,hilo_r;\n",
    "    int rc;\n",
    "    printf(\"El main ... creando los threads\\n\");\n",
    "    rc = pthread_create(&hilo_s, NULL, hilo_suma, NULL);\n",
    "    if (rc) {\n",
    "    printf(\"ERROR; pthread_create() = %d\\n\", rc);\n",
    "    exit(-1);\n",
    "    }\n",
    "    rc = pthread_create(&hilo_r, NULL, hilo_resta, NULL);\n",
    "    if (rc) {\n",
    "    printf(\"ERROR; pthread_create() = %d\\n\", rc);\n",
    "    exit(-1);\n",
    "    }\n",
    "   /* espera por finalización de TODOS*/\n",
    "    pthread_join(hilo_s, NULL);\n",
    "    pthread_join(hilo_r, NULL);\n",
    "    printf (\"valor global %d\\n\", glob);\n",
    "    pthread_exit(NULL);\n",
    "    return (0);\n",
    "}"
   ]
  },
  {
   "cell_type": "markdown",
   "id": "89da9388",
   "metadata": {},
   "source": [
    "## ***Una solución***\n",
    "Una posibilidad es usar una exclusión mutua para que cuando un hilo haga su operación tenga acceso exclusivo a la variable global. En el siguiente ejemplo se utiliza un llamado a time.sleep(...) a modo de simulación de una tarea cualquiera que el hilo debe realizar. Conceptualmente, esa tarea simulada, es responsabilidad solo del hilo y no tiene nada que compartir con otro hilo o proceso."
   ]
  },
  {
   "cell_type": "code",
   "execution_count": 7,
   "id": "61647b34",
   "metadata": {},
   "outputs": [
    {
     "name": "stdout",
     "output_type": "stream",
     "text": [
      "\n",
      "real\t0m0,000s\n",
      "user\t0m0,000s\n",
      "sys\t0m0,000s\n",
      "Resultado:\n",
      " 0\n"
     ]
    }
   ],
   "source": [
    "!time\n",
    "import threading\n",
    "import time\n",
    "\n",
    "\n",
    "# Variable compartida entre hilos\n",
    "cont = 0\n",
    "loop_amount = 100 #Incrementar la cantidad de incrementos y decrementos\n",
    "lock = threading.Lock()\n",
    "\n",
    "# Función que incrementa el contador de forma segura\n",
    "def add(loop_amount):\n",
    "    global cont\n",
    "    lock.acquire()\n",
    "    for i in range(loop_amount):\n",
    "        cont = cont + 1\n",
    "    lock.release()\n",
    "        \n",
    "def sub(loop_amount):\n",
    "    global cont\n",
    "    lock.acquire()\n",
    "    for i in range(loop_amount):\n",
    "        cont = cont - 1\n",
    "    lock.release()\n",
    "\n",
    "# Creamos dos hilos que incrementan y decrementan el contador\n",
    "t1 = threading.Thread(target=add, args=(loop_amount,))\n",
    "t2 = threading.Thread(target=sub, args=(loop_amount,))\n",
    "t1.start()\n",
    "t2.start()\n",
    "\n",
    "# Esperamos a que todos los hilos terminen\n",
    "t1.join()\n",
    "t2.join()\n",
    "\n",
    "\n",
    "# Imprimimos el resultado final\n",
    "print (\"Resultado:\\n\", cont)\n"
   ]
  },
  {
   "cell_type": "code",
   "execution_count": 7,
   "id": "46e0ccf0",
   "metadata": {},
   "outputs": [
    {
     "name": "stdout",
     "output_type": "stream",
     "text": [
      "\n",
      "real\t0m0,000s\n",
      "user\t0m0,000s\n",
      "sys\t0m0,000s\n",
      "Resultado:\n",
      " 0\n"
     ]
    }
   ],
   "source": [
    "!time\n",
    "import threading\n",
    "import time\n",
    "\n",
    "\n",
    "# Variable compartida entre hilos\n",
    "cont = 0\n",
    "loop_amount = 100 #Incrementar la cantidad de incrementos y decrementos\n",
    "lock = threading.Lock()\n",
    "\n",
    "# Función que incrementa el contador de forma segura\n",
    "def add(loop_amount):\n",
    "    global cont\n",
    "    for i in range(loop_amount):\n",
    "        lock.acquire()\n",
    "        cont = cont + 1\n",
    "        lock.release()\n",
    "        \n",
    "def sub(loop_amount):\n",
    "    global cont\n",
    "    for i in range(loop_amount):\n",
    "        lock.acquire()\n",
    "        cont = cont - 1\n",
    "        lock.release()\n",
    "\n",
    "# Creamos dos hilos que incrementan y decrementan el contador\n",
    "t1 = threading.Thread(target=add, args=(loop_amount,))\n",
    "t2 = threading.Thread(target=sub, args=(loop_amount,))\n",
    "t1.start()\n",
    "t2.start()\n",
    "\n",
    "# Esperamos a que todos los hilos terminen\n",
    "t1.join()\n",
    "t2.join()\n",
    "\n",
    "\n",
    "# Imprimimos el resultado final\n",
    "print (\"Resultado:\\n\", cont)\n"
   ]
  },
  {
   "cell_type": "code",
   "execution_count": null,
   "id": "071d1c62",
   "metadata": {},
   "outputs": [],
   "source": []
  }
 ],
 "metadata": {
  "kernelspec": {
   "display_name": "Python 3 (ipykernel)",
   "language": "python",
   "name": "python3"
  },
  "language_info": {
   "codemirror_mode": {
    "name": "ipython",
    "version": 3
   },
   "file_extension": ".py",
   "mimetype": "text/x-python",
   "name": "python",
   "nbconvert_exporter": "python",
   "pygments_lexer": "ipython3",
   "version": "3.10.6"
  }
 },
 "nbformat": 4,
 "nbformat_minor": 5
}
