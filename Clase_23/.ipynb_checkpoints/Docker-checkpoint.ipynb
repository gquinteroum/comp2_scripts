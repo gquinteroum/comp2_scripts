{
 "cells": [
  {
   "cell_type": "markdown",
   "id": "cc51d433",
   "metadata": {},
   "source": [
    "![image](images/um_logo.png)"
   ]
  },
  {
   "cell_type": "markdown",
   "id": "e56a4901",
   "metadata": {},
   "source": [
    "# Computación II\n"
   ]
  },
  {
   "cell_type": "markdown",
   "id": "8c696dfe",
   "metadata": {},
   "source": [
    "# ***Docker***\n",
    "## Creando imágenes con Dockerfile\n",
    "\n",
    "### ¿Qué es un Dockerfile?\n",
    "\n",
    "Un Dockerfile es un archivo de texto plano que contiene instrucciones que permiten a Docker construir automáticamente una imagen de contenedor. Las imágenes de contenedor son como plantillas virtuales que contienen todo lo necesario para ejecutar una aplicación, incluyendo el código, las bibliotecas y las dependencias.\n",
    "\n",
    "### ¿Por qué son importantes los Dockerfiles?\n",
    "\n",
    "Los Dockerfiles son fundamentales en el mundo de la contenerización. Permiten que los desarrolladores definan el entorno de ejecución de una aplicación de manera consistente, independientemente del sistema operativo o la infraestructura subyacente. Esto significa que una aplicación que funciona en un contenedor Docker en un entorno de desarrollo también funcionará de la misma manera en un entorno de producción, lo que evita problemas de \"funciona en mi máquina pero no en la tuya\".\n",
    "\n",
    "### ¿Cómo funciona un Dockerfile?\n",
    "\n",
    "Un Dockerfile consta de una serie de instrucciones que describen cómo se debe construir una imagen de contenedor. Estas instrucciones incluyen:\n",
    "\n",
    "1. `FROM`: Especifica la imagen base a partir de la cual se construirá la nueva imagen. Por ejemplo, `FROM ubuntu` utilizará una imagen de Ubuntu como base.\n",
    "\n",
    "2. `RUN`: Ejecuta comandos en el sistema operativo base, como la instalación de paquetes, la compilación de código, etc.\n",
    "\n",
    "3. `COPY` y `ADD`: Copian archivos y directorios desde el sistema de archivos del host al sistema de archivos del contenedor.\n",
    "\n",
    "4. `WORKDIR`: Establece el directorio de trabajo dentro del contenedor para futuras instrucciones.\n",
    "\n",
    "5. `EXPOSE`: Especifica los puertos en los que la aplicación del contenedor escuchará conexiones.\n",
    "\n",
    "6. `CMD` y `ENTRYPOINT`: Define el comando que se ejecutará cuando se inicie el contenedor.\n",
    "\n",
    "### ¿Cómo se utiliza un Dockerfile?\n",
    "\n",
    "Para construir una imagen de contenedor a partir de un Dockerfile, se utiliza el comando `docker build`. Para poder utilizar la nueva implementación más potente `buildx` puede ser necesario habilitarla con `docker buildx create --use` Por ejemplo:\n",
    "\n",
    "`docker build -t hola_mundo:latest .`\n",
    "\n",
    "Este comando busca un Dockerfile en el directorio actual y utiliza las instrucciones definidas en el archivo para construir la imagen. El resultado es una imagen de contenedor que se puede ejecutar en cualquier entorno compatible con Docker.\n",
    "\n"
   ]
  },
  {
   "cell_type": "markdown",
   "id": "fe6ff576",
   "metadata": {},
   "source": [
    "## Creando imágenes con docker commit\n",
    "`docker commit` es un comando que te permite crear una nueva imagen a partir de un contenedor en ejecución. Esta nueva imagen se basa en el estado actual del contenedor, lo que incluye los cambios en el sistema de archivos y las configuraciones realizados desde que el contenedor se inició o desde su última commit.\n",
    "\n",
    "La sintaxis básica del comando `docker commit` es la siguiente:\n",
    "\n",
    "`docker commit [opciones] CONTENEDOR NOMBRE_DE_LA_IMAGEN[:ETIQUETA]`\n",
    "\n",
    "- __`[opciones]`:__ Puedes incluir opciones como `--change` para especificar los cambios en el contenedor y `--author` para definir el autor de la imagen.\n",
    "\n",
    "- __`CONTENEDOR`:__ Es el nombre o ID del contenedor del que deseas crear una imagen.\n",
    "\n",
    " - __`NOMBRE_DE_LA_IMAGEN`:__ Es el nombre que le darás a la nueva imagen.\n",
    "\n",
    "- __`[:ETIQUETA]`:__ Es opcional y se utiliza para especificar una etiqueta para la nueva imagen. Si no se proporciona, se usa la etiqueta \"latest\" de forma predeterminada.\n",
    "\n",
    "Por ejemplo, para crear una nueva imagen a partir de un contenedor llamado \"mi-contenedor\" y darle el nombre \"mi-imagen-personal\", se puede usar el siguiente comando:\n",
    "\n",
    "`docker commit mi-contenedor mi-imagen-personal`\n",
    "\n",
    "La nueva imagen \"mi-imagen-personal\" se creará a partir del estado actual del contenedor \"mi-contenedor\".\n",
    "\n",
    "Hay que tener en cuenta que `docker commit` se utiliza principalmente para fines de desarrollo y depuración, ya que no es la forma típica de crear imágenes en un entorno de producción. Para entornos de producción, es recomendable usar un Dockerfile y el comando `docker build` para construir imágenes de manera más controlada y reproducible.\n",
    "\n"
   ]
  },
  {
   "cell_type": "markdown",
   "id": "82e8c3f8",
   "metadata": {},
   "source": [
    "## Networking con Docker\n",
    "> ```sudo apt-get install iputils-ping```\n",
    "\n",
    ">```sudo apt-get install net-tools```\n"
   ]
  },
  {
   "cell_type": "code",
   "execution_count": null,
   "id": "3fddd02f",
   "metadata": {},
   "outputs": [],
   "source": []
  }
 ],
 "metadata": {
  "kernelspec": {
   "display_name": "Python 3 (ipykernel)",
   "language": "python",
   "name": "python3"
  },
  "language_info": {
   "codemirror_mode": {
    "name": "ipython",
    "version": 3
   },
   "file_extension": ".py",
   "mimetype": "text/x-python",
   "name": "python",
   "nbconvert_exporter": "python",
   "pygments_lexer": "ipython3",
   "version": "3.10.12"
  }
 },
 "nbformat": 4,
 "nbformat_minor": 5
}
