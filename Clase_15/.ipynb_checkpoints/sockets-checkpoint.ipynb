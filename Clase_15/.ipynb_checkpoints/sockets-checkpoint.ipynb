{
 "cells": [
  {
   "cell_type": "markdown",
   "id": "cc51d433",
   "metadata": {},
   "source": [
    "![image](images/um_logo.png)"
   ]
  },
  {
   "cell_type": "markdown",
   "id": "e56a4901",
   "metadata": {},
   "source": [
    "# Computación II\n"
   ]
  },
  {
   "cell_type": "markdown",
   "id": "8c696dfe",
   "metadata": {},
   "source": [
    "# ***Sockets III***"
   ]
  },
  {
   "cell_type": "markdown",
   "id": "3134d8a0",
   "metadata": {},
   "source": [
    "## Modelo cliente servidor\n",
    "El modelo cliente-servidor es una arquitectura de diseño utilizada en sistemas de computación y redes para organizar y gestionar la comunicación entre diferentes componentes. En este modelo, los roles principales son desempeñados por dos tipos de entidades: el cliente y el servidor.\n",
    "\n",
    "- **Cliente**: El cliente es la entidad que solicita algún tipo de servicio o recurso al servidor. Puede ser un programa, una aplicación o incluso un dispositivo que busca obtener información, realizar operaciones o acceder a recursos proporcionados por el servidor. Los clientes envían solicitudes al servidor y esperan respuestas.\n",
    "\n",
    "- **Servidor**: El servidor es la entidad que proporciona servicios, recursos o información a los clientes. Puede ser un programa, un sistema o un conjunto de hardware que está diseñado para atender las solicitudes de los clientes. El servidor escucha las solicitudes entrantes, procesa la información y envía las respuestas correspondientes.\n",
    "\n",
    "El modelo cliente-servidor se basa en la idea de división de tareas y responsabilidades. Los clientes solicitan servicios o recursos específicos, mientras que los servidores proveen esos servicios o recursos de manera eficiente y confiable. Esta arquitectura permite una mayor escalabilidad y distribución de tareas, ya que varios clientes pueden acceder a los servicios de un servidor centralizado.\n",
    "\n",
    "Además del modelo cliente-servidor tradicional, existen varias variantes y enfoques, como el modelo peer-to-peer (P2P), donde las entidades pueden actuar como clientes y servidores al mismo tiempo, compartiendo recursos entre sí sin una jerarquía fija.\n",
    "\n",
    "El modelo cliente-servidor es ampliamente utilizado en sistemas informáticos y aplicaciones en línea, como navegadores web (cliente) que acceden a sitios web (servidor), aplicaciones de correo electrónico (cliente) que se conectan a servidores de correo, y muchas otras aplicaciones en las que la comunicación y la distribución de recursos son esenciales."
   ]
  },
  {
   "cell_type": "markdown",
   "id": "17fe9566",
   "metadata": {},
   "source": [
    "## Programando un servidor"
   ]
  },
  {
   "cell_type": "code",
   "execution_count": null,
   "id": "d141afbf",
   "metadata": {},
   "outputs": [],
   "source": [
    "#!/usr/bin/python3\n",
    "import socket, os, sys\n",
    "\n",
    "# create a socket object\n",
    "serversocket = socket.socket(socket.AF_INET, socket.SOCK_STREAM) \n",
    "\n",
    "# get local machine name\n",
    "#host = socket.gethostname()\n",
    "host = \"\"\n",
    "#port = int(sys.argv[1])\n",
    "port = 50001\n",
    "\n",
    "# bind to the port\n",
    "serversocket.bind((host, port))\n",
    "\n",
    "# queue up to 5 requests\n",
    "serversocket.listen(5)\n",
    "\n",
    "while True:\n",
    "    # establish a connection\n",
    "    clientsocket, addr = serversocket.accept()\n",
    "\n",
    "    print(\"Conexión desde %s\" % str(addr))\n",
    "\n",
    "    msg = 'Gracias por conectar'+ \"\\r\\n\"\n",
    "    clientsocket.send(msg.encode('ascii'))\n",
    "    child_pid = os.fork()\n",
    "    if not child_pid:\n",
    "        while True:\n",
    "            msg = clientsocket.recv(1024)\n",
    "            print(\"Recibido: %s\" % msg.decode())\n",
    "            msg = \"Ok\"+\" \\r\\n\"\n",
    "            clientsocket.send(msg.encode(\"ascii\"))\n",
    "        #clientsocket.close()"
   ]
  },
  {
   "cell_type": "markdown",
   "id": "298c482e",
   "metadata": {},
   "source": [
    "¿Qué recursos está usando el servidor de arriba?\n",
    "El servidor está utilizando, básicamente, sockets y procesos.\n",
    "Debemos ser cuidadosos a la hora de programar servidores para que los recursos puedan ser liberados correctamente, una vez que se dejaron de utilizar.\n",
    "Por lo tanto es importante cerrar los sockets. \n",
    "También es importante administrar correctamente la finalización de los procesos. Si no lo hago corro riesgo de que se acumulen procesos zombies que puedes, finalmente, sacar de servicio a todo el servidor.\n",
    "Para hacer esto y, al mismo tiempo, no perder la concurrencia con el uso de wait(), es necesario ignorar la señal SIGCHDL"
   ]
  },
  {
   "cell_type": "code",
   "execution_count": null,
   "id": "f9a0040a",
   "metadata": {},
   "outputs": [],
   "source": [
    "import signal\n",
    "\n",
    "signal.signal(signal.SIGCHLD, signal.SIG_IGN)"
   ]
  },
  {
   "cell_type": "markdown",
   "id": "daf3b35e",
   "metadata": {},
   "source": [
    "https://docs.python.org/3/library/signal.html#signal.SIG_IGN"
   ]
  },
  {
   "cell_type": "markdown",
   "id": "30f84017",
   "metadata": {},
   "source": [
    "A continuación se muestra el código de un servidor donde se puede ver de forma más manifiesta el uso de fork."
   ]
  },
  {
   "cell_type": "code",
   "execution_count": null,
   "id": "a2fe49c0",
   "metadata": {},
   "outputs": [],
   "source": [
    "#!/usr/bin/python3\n",
    "import socket, sys, time, os\n",
    "\n",
    "# create a socket object\n",
    "serversocket = socket.socket(socket.AF_INET, socket.SOCK_STREAM) \n",
    "serversocket.setsockopt(socket.SOL_SOCKET, socket.SO_REUSEADDR, 1)\n",
    "\"\"\"\n",
    "    socket.AF_INET -> sockets tcp/ip\n",
    "    socket.AF_UNIX -> sockets Unix (archivos en disco, similar a FIFO/named pipes)\n",
    "\n",
    "    socket.SOCK_STREAM -> socket tcp, orientado a la conexion (flujo de datos)\n",
    "    socket.SOCK_DGRAM -> socket udp, datagrama de usuario (no orientado a la conexion)\n",
    "\"\"\"\n",
    "\n",
    "# get local machine name\n",
    "host = socket.gethostname()                           \n",
    "#host = \"\"\n",
    "#port = int(sys.argv[1])\n",
    "port = 50001\n",
    "\n",
    "# bind to the port\n",
    "serversocket.bind((host, port))                                  \n",
    "\n",
    "# queue up to 5 requests\n",
    "serversocket.listen(5)\n",
    "\n",
    "while True:\n",
    "    # establish a connection\n",
    "    print(\"Esperando conexiones remotas (accept)\")\n",
    "    clientsocket,addr = serversocket.accept()      \n",
    "\n",
    "    print(\"Conexión desde %s\" % str(addr))\n",
    "    \n",
    "    ret = os.fork()\n",
    "    if not ret: # hijo\n",
    "        msg = 'Hola Mundo'+ \"\\r\\n\"\n",
    "        #clientsocket.send(msg.encode('ascii'))\n",
    "        print(\"Esperando un tiempito...\")\n",
    "        time.sleep(20)\n",
    "        print(\"Enviando mensaje...\")\n",
    "        clientsocket.send(msg.encode('utf-8'))\n",
    "        print(\"Cerrando conexion...\")\n",
    "        clientsocket.close()\n",
    "        exit()"
   ]
  },
  {
   "cell_type": "markdown",
   "id": "a348f4da",
   "metadata": {},
   "source": [
    "Podemos probar el servidor usando telnet y podemos ver las conexiones usando netstat o ss con -npt"
   ]
  },
  {
   "cell_type": "markdown",
   "id": "5777186c",
   "metadata": {},
   "source": [
    "## Programando un cliente"
   ]
  },
  {
   "cell_type": "code",
   "execution_count": null,
   "id": "b2017c55",
   "metadata": {},
   "outputs": [],
   "source": [
    "#!/usr/bin/python3\n",
    "\n",
    "import socket\n",
    "import sys\n",
    "\n",
    "# create a socket object\n",
    "s = socket.socket(socket.AF_INET, socket.SOCK_STREAM) \n",
    "\n",
    "# get local machine name\n",
    "#host = socket.gethostname()                           \n",
    "host = sys.argv[1]\n",
    "\n",
    "port = int(sys.argv[2])\n",
    "\n",
    "print(\"Haciendo el connect\")\n",
    "# connection to hostname on the port.\n",
    "s.connect((host, port))   \n",
    "print(\"Handshake realizado con exito!\")\n",
    "\n",
    "# Receive no more than 1024 bytes\n",
    "print(\"Esperando datos desde el server\")\n",
    "msg = s.recv(1024)                                     \n",
    "#print (msg.decode('ascii'))\n",
    "print (msg.decode('utf-8'))\n",
    "s.close()\n",
    "print(\"Cerrando conexion\")"
   ]
  },
  {
   "cell_type": "markdown",
   "id": "b25e669e",
   "metadata": {},
   "source": [
    "### Analicemos el código\n",
    "Si intentamos utilizar el cliente que presentamos arriba con alguno de los servidores, el servidor lanza el siguiente error."
   ]
  },
  {
   "cell_type": "raw",
   "id": "4f0aa901",
   "metadata": {},
   "source": [
    "BrokenPipeError: [Errno 32] Broken pipe"
   ]
  },
  {
   "cell_type": "markdown",
   "id": "c5e6277d",
   "metadata": {},
   "source": [
    "¿Qué está ocurriendo?\n",
    "Arreglemos el código"
   ]
  },
  {
   "cell_type": "markdown",
   "id": "169fa79e",
   "metadata": {},
   "source": [
    "## Ejemplo de servidor utilizando multiprocessing"
   ]
  },
  {
   "cell_type": "code",
   "execution_count": null,
   "id": "18d4e3e4",
   "metadata": {},
   "outputs": [],
   "source": [
    "#!/usr/bin/python3\n",
    "import socket, os, multiprocessing, sys\n",
    "\n",
    "def mp_server(c):\n",
    "    print(\"Launching proc...\")\n",
    "    sock,addr = c\n",
    "    while True:\n",
    "        msg = sock.recv(1024)\n",
    "        print(\"Recibido: '%s' de %s\" % (msg.decode(), addr))\n",
    "        msg = \"Ok\"+\" \\r\\n\"\n",
    "        sock.send(msg.encode(\"ascii\"))\n",
    "        #clientsocket.close()\n",
    "\n",
    "\n",
    "\n",
    "# create a socket object\n",
    "# crea un objeto tipo socket para usarlo en la comunicación\n",
    "serversocket = socket.socket(socket.AF_INET, socket.SOCK_STREAM) \n",
    "serversocket.setsockopt(socket.SOL_SOCKET, socket.SO_REUSEADDR, 1)\n",
    "\n",
    "# get local machine name\n",
    "#host = socket.gethostname()\n",
    "host = \"\"\n",
    "port = int(sys.argv[1])\n",
    "\n",
    "# bind to the port\n",
    "serversocket.bind((host, port))\n",
    "\n",
    "# queue up to 5 requests\n",
    "serversocket.listen(5)\n",
    "\n",
    "while True:\n",
    "    # establish a connection\n",
    "    cliente = serversocket.accept()\n",
    "\n",
    "    clientsocket, addr = cliente\n",
    "\n",
    "    print(\"Got a connection from %s\" % str(addr))\n",
    "\n",
    "    msg = 'Thank you for connecting'+ \"\\r\\n\"\n",
    "    clientsocket.send(msg.encode('ascii'))\n",
    "    child = multiprocessing.Process(target=mp_server, args=(cliente,))\n",
    "    child.start()\n"
   ]
  },
  {
   "cell_type": "markdown",
   "id": "291df45f",
   "metadata": {},
   "source": [
    "## Ejemplo de servidor utilizando threading"
   ]
  },
  {
   "cell_type": "code",
   "execution_count": null,
   "id": "189aac7a",
   "metadata": {},
   "outputs": [],
   "source": [
    "#!/usr/bin/python3\n",
    "import socket, os, threading\n",
    "\n",
    "def th_server(sock):\n",
    "    print(\"Launching thread...\")\n",
    "    while True:\n",
    "        msg = sock.recv(1024)\n",
    "        print(\"Recibido: %s\" % msg.decode())\n",
    "        msg = \"Ok\"+\" \\r\\n\"\n",
    "        sock.send(msg.encode(\"ascii\"))\n",
    "        #clientsocket.close()\n",
    "\n",
    "\n",
    "\n",
    "# create a socket object\n",
    "serversocket = socket.socket(socket.AF_INET, socket.SOCK_STREAM) \n",
    "serversocket.setsockopt(socket.SOL_SOCKET, socket.SO_REUSEADDR, 1)\n",
    "\n",
    "# get local machine name\n",
    "#host = socket.gethostname()\n",
    "host = \"\"\n",
    "port = 1234\n",
    "\n",
    "# bind to the port\n",
    "serversocket.bind((host, port))\n",
    "\n",
    "# queue up to 5 requests\n",
    "serversocket.listen(5)\n",
    "\n",
    "while True:\n",
    "    # establish a connection\n",
    "    clientsocket,addr = serversocket.accept()\n",
    "\n",
    "    print(\"Got a connection from %s\" % str(addr))\n",
    "\n",
    "    msg = 'Thank you for connecting'+ \"\\r\\n\"\n",
    "    clientsocket.send(msg.encode('ascii'))\n",
    "    th = threading.Thread(target=th_server, args=(clientsocket,))\n",
    "    th.start()"
   ]
  }
 ],
 "metadata": {
  "kernelspec": {
   "display_name": "Python 3 (ipykernel)",
   "language": "python",
   "name": "python3"
  },
  "language_info": {
   "codemirror_mode": {
    "name": "ipython",
    "version": 3
   },
   "file_extension": ".py",
   "mimetype": "text/x-python",
   "name": "python",
   "nbconvert_exporter": "python",
   "pygments_lexer": "ipython3",
   "version": "3.10.12"
  }
 },
 "nbformat": 4,
 "nbformat_minor": 5
}
