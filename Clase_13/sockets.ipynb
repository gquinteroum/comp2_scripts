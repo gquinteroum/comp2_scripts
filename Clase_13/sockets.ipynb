{
 "cells": [
  {
   "cell_type": "markdown",
   "id": "cc51d433",
   "metadata": {},
   "source": [
    "![image](images/um_logo.png)"
   ]
  },
  {
   "cell_type": "markdown",
   "id": "e56a4901",
   "metadata": {},
   "source": [
    "# Computación II\n"
   ]
  },
  {
   "cell_type": "markdown",
   "id": "8c696dfe",
   "metadata": {},
   "source": [
    "# ***Sockets***"
   ]
  },
  {
   "cell_type": "markdown",
   "id": "3134d8a0",
   "metadata": {},
   "source": [
    "## Breve historia\n",
    "\n",
    "Década de 1970:\n",
    "\n",
    "- A medida que las redes de computadoras comenzaron a surgir, los programadores se dieron cuenta de la necesidad de una forma estándar de comunicarse entre sistemas.\n",
    "- En 1973, Vint Cerf y Bob Kahn desarrollaron el protocolo TCP (Transmission Control Protocol), un protocolo fundamental para la transmisión confiable de datos a través de redes.\n",
    "\n",
    "Década de 1980:\n",
    "\n",
    "- En la década de 1980, el concepto de \"sockets\" comenzó a tomar forma. Las API (Interfaz de Programación de Aplicaciones) de sockets se desarrollaron para permitir a los programadores acceder a las capacidades de red de una manera más sencilla y estandarizada.\n",
    "- En 1982, Mary Ann Horton y Bill Joy de Berkeley desarrollaron la API de sockets en el sistema operativo Unix BSD 4.1c.\n",
    "\n",
    "Década de 1990:\n",
    "\n",
    "- A medida que Internet crecía en popularidad, los sockets se convirtieron en un componente esencial para el desarrollo de aplicaciones de red.\n",
    "    En 1990, el estándar POSIX (Portable Operating System Interface) incluyó las API de sockets, lo que llevó a una mayor estandarización y portabilidad en las aplicaciones de red.\n",
    "\n",
    "Hoy en día:\n",
    "\n",
    "- Los sockets siguen siendo la base de la programación de red y se utilizan en una amplia variedad de aplicaciones, desde navegadores web hasta aplicaciones de mensajería y juegos en línea.\n",
    "- Aunque han surgido nuevas tecnologías y protocolos de comunicación, los sockets siguen siendo una herramienta fundamental para la comunicación entre procesos en redes."
   ]
  },
  {
   "cell_type": "markdown",
   "id": "08e2ff11",
   "metadata": {},
   "source": [
    "## Usemos telnet\n",
    "Telnet es un protocolo de red que permite a un usuario acceder y administrar de forma remota otra computadora o dispositivo a través de una red. También se refiere a la aplicación que implementa este protocolo y se utiliza para establecer conexiones remotas en entornos de línea de comandos."
   ]
  },
  {
   "cell_type": "markdown",
   "id": "3958dc45",
   "metadata": {},
   "source": [
    "### HTTP\n",
    "`telnet <ip> <port>`  \n",
    "`telnet www.um.edu.ar 80`  \n",
    "`GET HTTP/1.1`  "
   ]
  },
  {
   "cell_type": "markdown",
   "id": "d62b4be4",
   "metadata": {},
   "source": [
    "### SMTP\n",
    "[RFC 2821](https://datatracker.ietf.org/doc/html/rfc2821)\n",
    "\n",
    "telnet localhost 25  \n",
    "Trying ::1...  \n",
    "Connected to localhost.  \n",
    "Escape character is '^]'.  \n",
    "220 mail.mydomain.com ESMTP  \n",
    " \n",
    "HELO yourdomain.com  \n",
    "250 mail.mydomain.com  \n",
    " \n",
    "MAIL FROM: you@server.com  \n",
    "250 2.1.0 Ok  \n",
    " \n",
    "RCPT TO: someoneelse@mydomain.com  \n",
    "250 2.1.5 Ok  \n",
    " \n",
    "DATA  \n",
    "354 End data with <CR><LF>.<CR><LF>  \n",
    "From: \"Some One\" <you@server.com>  \n",
    "To: \"Some One Else\" <someoneelse@mydomain.com>  \n",
    "Subject: Testing  \n",
    "MIME-Version: 1.0  \n",
    "Content-Type: multipart/alternative;  \n",
    "        boundary=\"boundary-type-1234567892-alt\"  \n",
    "--boundary-type-1234567890  \n",
    "--boundary-type-1234567892-alt  \n",
    "Content-Type: text/plain; charset=\"iso-8859-1\"  \n",
    "Content-Transfer-Encoding: quoted-printable  \n",
    " \n",
    " \n",
    "Testing the text to see if it works!  \n",
    " \n",
    "--boundary-type-1234567892-alt  \n",
    "Content-Type: text/html; charset=\"iso-8859-1\"  \n",
    "Content-Transfer-Encoding: quoted-printable  \n",
    " \n",
    " \n",
    "<html>Does this actually work?</html>  \n",
    " \n",
    "--boundary-type-1234567892-alt--  \n",
    "--boundary-type-1234567890  \n",
    "Content-Transfer-Encoding: base64  \n",
    "Content-Type: text/plain;name=\"Here2.txt\"  \n",
    "Content-Disposition: attachment;filename=\"Here2.txt\"  \n",
    " \n",
    "KiAxMyBGRVRDSCAoQk9EWVtURVhUXSB7NjU5fQ0KLS1fZjZiM2I1ZWUtMjA3YS00ZDdiLTg0NTgtNDY5YmVlNDkxOGRhXw0KQ29udGVudC1UeXBlOiB0ZXh0L3BsYWluOyBjaGFyc2V0PSJpc28tODg1OS0xIg0KQ29udGVudC1UcmFuc2Zlci1FbmNvZGluZzogcXVvdGVkLXByaW50YWJsZQ0KDQoNCkp1c3Qgc2VlaW5nIHdoYXQgdGhpcyBhY3R1\n",
    "YWxseSBjb250YWlucyEgCQkgCSAgIAkJICA9DQoNCi0tX2Y2YjNiNWVlLTIwN2EtNGQ3Yi04NDU4LTQ2OWJlZTQ5MThkYV8NCkNvbnRlbnQtVHlwZTogdGV4dC9odG1sOyBjaGFyc2V0PSJpc28tODg1OS0xIg0KQ29udGVudC1UcmFuc2Zlci1FbmNvZGluZzogcXVvdGVkLXByaW50YWJsZQ0KDQo8aHRtbD4NCjxoZWFkPg0KPHN0eWxlPjwhLS0N\n",
    "Ci5obW1lc3NhZ2UgUA0Kew0KbWFyZ2luOjBweD0zQg0KcGFkZGluZzowcHgNCn0NCmJvZHkuaG1tZXNzYWdlDQp7DQpmb250LXNpemU6IDEwcHQ9M0INCmZvbnQtZmFtaWx5OlRhaG9tYQ0KfQ0KLS0+PC9zdHlsZT48L2hlYWQ+DQo8Ym9keSBjbGFzcz0zRCdobW1lc3NhZ2UnPjxkaXYgZGlyPTNEJ2x0cic+DQpKdXN0IHNlZWluZyB3aGF0IHRo\n",
    "aXMgYWN0dWFsbHkgY29udGFpbnMhIAkJIAkgICAJCSAgPC9kaXY+PC9ib2R5Pg0KPC9odG1sPj0NCg0KLS1fZjZiM2I1ZWUtMjA3YS00ZDdiLTg0NTgtNDY5YmVlNDkxOGRhXy0tDQopDQpmbHlubmNvbXB1dGVyIE9LIEZFVENIIGNvbXBsZXRlZA  \n",
    " \n",
    " \n",
    "--boundary-type-1234567890--  \n",
    " \n",
    " \n",
    ".  \n",
    "QUIT  \n",
    "250 2.0.0 Ok: queued as 1EDE71400DE  \n",
    " \n",
    "221 2.0.0 Bye  \n",
    "Connection closed by foreign host.  "
   ]
  },
  {
   "cell_type": "markdown",
   "id": "0637c0f2",
   "metadata": {},
   "source": [
    "### nc"
   ]
  },
  {
   "cell_type": "raw",
   "id": "47eeee25",
   "metadata": {},
   "source": [
    "$ nc -lt -p 7373"
   ]
  },
  {
   "cell_type": "raw",
   "id": "b9732602",
   "metadata": {},
   "source": [
    "$ telnet localhost 7373\n",
    "Trying 127.0.0.1...\n",
    "Connected to localhost.\n",
    "Escape character is '^]'.\n",
    "Prueba!!! "
   ]
  },
  {
   "cell_type": "markdown",
   "id": "dcaade10",
   "metadata": {},
   "source": [
    "## Vamos a Python\n",
    "https://docs.python.org/es/3/library/socket.html  \n",
    "https://docs.python.org/es/3/howto/sockets.html  \n",
    "https://realpython.com/python-sockets/  "
   ]
  },
  {
   "cell_type": "code",
   "execution_count": null,
   "id": "387a7bcb",
   "metadata": {},
   "outputs": [],
   "source": [
    "# Lado del servidor\n",
    "import socket\n",
    "serversocket = socket.socket(socket.AF_INET, socket.SOCK_STREAM)\n",
    "serversocket.bind((socket.gethostname(), 7373))\n",
    "serversocket.listen(5)\n",
    "\n",
    "(clientsocket, address) = serversocket.accept()\n",
    "clientsocket.recv(1024)"
   ]
  },
  {
   "cell_type": "code",
   "execution_count": 4,
   "id": "6294ad19",
   "metadata": {},
   "outputs": [],
   "source": [
    "# Lado del cliente\n",
    "import socket\n",
    "s = socket.socket(socket.AF_INET, socket.SOCK_STREAM)\n",
    "s.connect(('localhost', 7373))\n",
    "s.send(b'Hola')"
   ]
  },
  {
   "cell_type": "markdown",
   "id": "6ae35067",
   "metadata": {},
   "source": [
    "### ECHO"
   ]
  },
  {
   "cell_type": "code",
   "execution_count": null,
   "id": "ef149900",
   "metadata": {},
   "outputs": [],
   "source": [
    "# Echo server program (script)\n",
    "import socket\n",
    "\n",
    "HOST = ''                 # Symbolic name meaning all available interfaces\n",
    "PORT = 50007              # Arbitrary non-privileged port\n",
    "with socket.socket(socket.AF_INET, socket.SOCK_STREAM) as s:\n",
    "    s.bind((HOST, PORT))\n",
    "    s.listen(1)\n",
    "    conn, addr = s.accept()\n",
    "    with conn:\n",
    "        print('Connected by', addr)\n",
    "        while True:\n",
    "            data = conn.recv(1024)\n",
    "            if not data: break\n",
    "            conn.sendall(data)"
   ]
  },
  {
   "cell_type": "code",
   "execution_count": null,
   "id": "eece0499",
   "metadata": {},
   "outputs": [],
   "source": [
    "# Echo client program (ipython)\n",
    "import socket\n",
    "\n",
    "HOST = 'localhost'    # The remote host\n",
    "PORT = 50007              # The same port as used by the server\n",
    "s = socket.socket(socket.AF_INET, socket.SOCK_STREAM)\n",
    "s.connect((HOST, PORT))\n",
    "\n",
    "s.sendall(b'Hello, world')\n",
    "s.recv(1024)\n",
    "repr(data)\n",
    "\n",
    "s.close()"
   ]
  },
  {
   "cell_type": "markdown",
   "id": "b45dbb4d",
   "metadata": {},
   "source": [
    "## Qué son los RFC\n",
    "Un RFC, o \"Request for Comments\" (Solicitud de Comentarios), es un tipo de documento que describe especificaciones, estándares, protocolos y otros aspectos relacionados con las tecnologías de Internet y las redes de computadoras. Los RFC son desarrollados y publicados por la Internet Engineering Task Force (IETF), una organización que se encarga de establecer y mantener los estándares de Internet.\n",
    "\n",
    "Aunque el término \"Request for Comments\" puede sugerir que los documentos están sujetos a revisiones y comentarios, en realidad, los RFC son considerados como especificaciones formales y técnicas que definen cómo deben funcionar diversas tecnologías relacionadas con Internet. Los RFC abarcan una amplia gama de temas, como protocolos de red, formatos de datos, estándares de seguridad, métodos de enrutamiento, codificación de caracteres, y más.\n",
    "\n",
    "Los RFC suelen estar numerados y se organizan en una serie continua. Cada RFC tiene un título que refleja su contenido y un número de asignación único. A lo largo de los años, los RFC han sido fundamentales para el desarrollo y la evolución de Internet, proporcionando una base técnica y de referencia para que los desarrolladores y expertos en redes implementen y comprendan las tecnologías subyacentes.\n",
    "\n",
    "Es importante mencionar que, a pesar de su nombre, los RFC no se utilizan para solicitar comentarios en el sentido convencional. En cambio, representan documentos técnicos que han sido revisados y aceptados por la comunidad de expertos en Internet como estándares formales."
   ]
  },
  {
   "cell_type": "markdown",
   "id": "17fe9566",
   "metadata": {},
   "source": [
    "## Artículos interesantes\n",
    "https://dosideas.com/noticias/actualidad/574-pasado-presente-y-futuro-de-los-sockets"
   ]
  },
  {
   "cell_type": "code",
   "execution_count": null,
   "id": "d141afbf",
   "metadata": {},
   "outputs": [],
   "source": []
  }
 ],
 "metadata": {
  "kernelspec": {
   "display_name": "Python 3 (ipykernel)",
   "language": "python",
   "name": "python3"
  },
  "language_info": {
   "codemirror_mode": {
    "name": "ipython",
    "version": 3
   },
   "file_extension": ".py",
   "mimetype": "text/x-python",
   "name": "python",
   "nbconvert_exporter": "python",
   "pygments_lexer": "ipython3",
   "version": "3.10.12"
  }
 },
 "nbformat": 4,
 "nbformat_minor": 5
}
