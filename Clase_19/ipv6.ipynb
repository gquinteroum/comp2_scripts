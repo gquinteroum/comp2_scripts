{
 "cells": [
  {
   "cell_type": "markdown",
   "id": "cc51d433",
   "metadata": {},
   "source": [
    "![image](images/um_logo.png)"
   ]
  },
  {
   "cell_type": "markdown",
   "id": "e56a4901",
   "metadata": {},
   "source": [
    "# Computación II\n"
   ]
  },
  {
   "cell_type": "markdown",
   "id": "8c696dfe",
   "metadata": {},
   "source": [
    "# ***IPv6***\n",
    "En el mundo de la informática y las redes, la comunicación es esencial. Y para que los dispositivos de todo el mundo se comuniquen entre sí en Internet, necesitamos un sistema de direccionamiento. Eso nos lleva a IPv6, la sexta versión del Protocolo de Internet, que está destinada a ser el futuro de la comunicación en línea.\n",
    "\n",
    "## ¿Qué es IPv6?\n",
    "IPv6, o Internet Protocol versión 6, es el sucesor de IPv4, que ha sido el protocolo dominante durante décadas. La principal razón detrás de la necesidad de IPv6 es la escasez de direcciones IPv4. IPv4 utiliza direcciones de 32 bits, lo que significa que solo hay alrededor de 4.3 mil millones de direcciones posibles. En un mundo con un crecimiento exponencial de dispositivos conectados a Internet, esta cantidad se ha vuelto insuficiente.\n",
    "\n",
    "IPv6, por otro lado, utiliza direcciones de 128 bits. Esto significa que hay una cantidad virtualmente ilimitada de direcciones IPv6 disponibles, lo que permite conectar no solo todos nuestros dispositivos actuales, sino también los que se desarrollarán en el futuro.\n",
    "\n",
    "## Beneficios de IPv6:\n",
    "1. **Mayor cantidad de direcciones:** Como mencionamos, IPv6 ofrece un número prácticamente infinito de direcciones IP, lo que garantiza que haya suficiente espacio para todos los dispositivos conectados a Internet en el mundo.\n",
    "\n",
    "2. **Mejora en la seguridad:** IPv6 incluye características de seguridad incorporadas que hacen que las comunicaciones en línea sean más seguras y menos vulnerables a ataques.\n",
    "\n",
    "3. **Optimización para aplicaciones modernas:** IPv6 está diseñado teniendo en cuenta las necesidades de las aplicaciones y servicios actuales, como la transmisión de video en alta definición y la Internet de las cosas (IoT).\n",
    "\n",
    "## Dificultades en la Transición:\n",
    "Aunque IPv6 ofrece numerosas ventajas, la transición de IPv4 a IPv6 no ha sido completamente fluida. La coexistencia de ambos protocolos ha sido necesaria durante un período de tiempo, y la adopción de IPv6 varía según las regiones y las organizaciones.\n",
    "\n"
   ]
  },
  {
   "cell_type": "markdown",
   "id": "a2436c8e",
   "metadata": {},
   "source": [
    "## Algunos ejemplos"
   ]
  },
  {
   "cell_type": "code",
   "execution_count": null,
   "id": "802a48cd",
   "metadata": {},
   "outputs": [],
   "source": [
    "#Servidor\n",
    "import socket\n",
    "\n",
    "# Crear un socket IPv6 para servidor\n",
    "server_socket = socket.socket(socket.AF_INET6, socket.SOCK_STREAM)\n",
    "\n",
    "# Asociar el socket a una dirección y un puerto\n",
    "server_address = ('::1', 12345)  # Usamos '::1' como la dirección IPv6 local y el puerto 12345\n",
    "# server_address = ('::', 12345) # Escucho en todas las interfaces\n",
    "\n",
    "server_socket.bind(server_address)\n",
    "\n",
    "# Escuchar conexiones entrantes\n",
    "server_socket.listen(5)  # El argumento 1 indica el número máximo de conexiones en espera\n",
    "\n",
    "print(\"Servidor esperando conexiones...\")\n",
    "\n",
    "while True:\n",
    "    client_socket, client_address = server_socket.accept()\n",
    "    print(f\"Conexión aceptada desde {client_address}\")\n",
    "\n",
    "    # Manejar la comunicación con el cliente aquí\n",
    "\n"
   ]
  },
  {
   "cell_type": "code",
   "execution_count": null,
   "id": "564dcd88",
   "metadata": {},
   "outputs": [],
   "source": [
    "# Cliente\n",
    "import socket\n",
    "\n",
    "# Crear un socket IPv6 para cliente\n",
    "client_socket = socket.socket(socket.AF_INET6, socket.SOCK_STREAM)\n",
    "\n",
    "# Dirección del servidor y puerto\n",
    "server_address = ('::1', 12345)  # Usamos '::1' como la dirección IPv6 local y el puerto 12345\n",
    "\n",
    "# Mensaje a enviar\n",
    "message = \"Hola, servidor\"\n",
    "\n",
    "try:\n",
    "    # Enviar datos\n",
    "    client_socket.sendto(message.encode(), server_address)\n",
    "\n",
    "    # Recibir respuesta\n",
    "    data, server = client_socket.recvfrom(1024)\n",
    "    print(f\"Recibido desde el servidor: {data.decode()}\")\n",
    "finally:\n",
    "    client_socket.close()\n"
   ]
  },
  {
   "cell_type": "markdown",
   "id": "c9a7e3ed",
   "metadata": {},
   "source": [
    "## Usando socketserver"
   ]
  },
  {
   "cell_type": "code",
   "execution_count": null,
   "id": "14192479",
   "metadata": {},
   "outputs": [],
   "source": [
    "\n",
    "import socketserver\n",
    "\n",
    "class MyHandler(socketserver.BaseRequestHandler):\n",
    "    def handle(self):\n",
    "        # Imprime la dirección del cliente cuando se establece una conexión\n",
    "        print(f\"Conexión recibida de {self.client_address}\")\n",
    "\n",
    "        # Recibe datos del cliente\n",
    "        data = self.request.recv(1024).strip()\n",
    "        print(f\"Recibido: {data.decode()}\")\n",
    "\n",
    "        # Envia una respuesta al cliente\n",
    "        response = \"Mensaje recibido por el servidor\"\n",
    "        self.request.sendall(response.encode())\n",
    "\n",
    "if __name__ == \"__main__\":\n",
    "    # Crea el servidor con soporte para IPv6\n",
    "    server = socketserver.ThreadingTCPServer(('::1', 12345), MyHandler)\n",
    "\n",
    "    print(\"Servidor esperando conexiones...\")\n",
    "\n",
    "    # Permite que el servidor maneje múltiples conexiones en hilos separados\n",
    "    server.serve_forever()\n"
   ]
  },
  {
   "cell_type": "markdown",
   "id": "5714a7bb",
   "metadata": {},
   "source": [
    "## Administrando las conexiones según el protocolo\n",
    "### AF_UNSPEC\n",
    "\n",
    "El tipo de dirección AF_UNSPEC se utiliza en programación de sockets para indicar que no se especifica un tipo de dirección IP específico en una operación. La abreviatura \"AF\" en AF_UNSPEC significa \"Address Family\" (Familia de Direcciones), y \"UNSPEC\" significa \"Unspecified\" (No Especificado).\n",
    "\n",
    "Cuando se utiliza AF_UNSPEC en un contexto de programación de sockets, estás indicando que el sistema operativo debe elegir automáticamente la dirección IP adecuada según el contexto o la configuración actual. Esto puede ser útil en situaciones donde la aplicación es compatible con múltiples versiones de IP, como IPv4 e IPv6, y permite que el sistema operativo elija la versión de IP que sea más apropiada según las circunstancias.\n",
    "\n",
    "Por ejemplo, si estás escribiendo una aplicación de red que puede funcionar tanto con IPv4 como con IPv6, puedes utilizar AF_UNSPEC al configurar sockets para que el sistema operativo seleccione la dirección IP adecuada automáticamente. Esto facilita que tu aplicación sea más flexible y compatible con diferentes configuraciones de red."
   ]
  },
  {
   "cell_type": "code",
   "execution_count": null,
   "id": "3d0d0fe6",
   "metadata": {},
   "outputs": [],
   "source": [
    "\n",
    "import socketserver, socket, threading\n",
    "\n",
    "class MyTCPHandler(socketserver.BaseRequestHandler):\n",
    "    \"\"\"\n",
    "    The request handler class for our server.\n",
    "\n",
    "    It is instantiated once per connection to the server, and must\n",
    "    override the handle() method to implement communication to the\n",
    "    client.\n",
    "    \"\"\"\n",
    "\n",
    "    def handle(self):\n",
    "        # self.request is the TCP socket connected to the client\n",
    "        self.data = self.request.recv(1024).strip()\n",
    "        print(\"{} wrote:\".format(self.client_address[0]))\n",
    "        print(self.data)\n",
    "        # just send back the same data, but upper-cased\n",
    "        self.request.sendall(self.data.upper())\n",
    "\n",
    "class server6 (socketserver.TCPServer):\n",
    "    address_family = socket.AF_INET6\n",
    "    pass\n",
    "\n",
    "class server (socketserver.TCPServer):\n",
    "    pass\n",
    "\n",
    "def servicio(d, c):\n",
    "    if d[0] == socket.AF_INET: \n",
    "        print(\"ipv4\")\n",
    "        with server((HOST, PORT), MyTCPHandler) as servidor:\n",
    "            servidor.serve_forever()\n",
    "            \n",
    "    elif d[0] == socket.AF_INET6:\n",
    "        print(\"ipv6\")\n",
    "        with server6((HOST, PORT), MyTCPHandler) as servidor:\n",
    "            servidor.serve_forever()\n",
    "\n",
    "\n",
    "if __name__ == \"__main__\":\n",
    "    HOST, PORT = \"localhost\", 9999\n",
    "    socketserver.TCPServer.allow_reuse_address = True\n",
    "    # Create the server, binding to localhost on port 9999\n",
    "    direcciones = socket.getaddrinfo(\"localhost\", 5000, socket.AF_UNSPEC, socket.SOCK_STREAM)\n",
    "    \n",
    "    hilo = []\n",
    "    print(direcciones)\n",
    "    for d in direcciones:\n",
    "        print(d[0])\n",
    "        hilo.append(threading.Thread(target=servicio, args=(d,c)))\n",
    "\n",
    "    for h in hilo:\n",
    "        h.start()\n",
    "\n",
    "\n",
    "\n",
    "\n",
    "\"\"\"\n",
    "\n",
    "server = socketserver.TCPServer((HOST, PORT), MyTCPHandler)\n",
    "server.serve_forever()\n",
    "server.handle_request()\n",
    "\n",
    "\"\"\"\n"
   ]
  },
  {
   "cell_type": "markdown",
   "id": "366a905a",
   "metadata": {},
   "source": [
    "Enlace para mirar\n",
    "https://docs.python.org/3/library/ipaddress.html"
   ]
  }
 ],
 "metadata": {
  "kernelspec": {
   "display_name": "Python 3 (ipykernel)",
   "language": "python",
   "name": "python3"
  },
  "language_info": {
   "codemirror_mode": {
    "name": "ipython",
    "version": 3
   },
   "file_extension": ".py",
   "mimetype": "text/x-python",
   "name": "python",
   "nbconvert_exporter": "python",
   "pygments_lexer": "ipython3",
   "version": "3.10.12"
  }
 },
 "nbformat": 4,
 "nbformat_minor": 5
}
