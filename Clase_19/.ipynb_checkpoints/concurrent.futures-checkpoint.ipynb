{
 "cells": [
  {
   "cell_type": "markdown",
   "id": "cc51d433",
   "metadata": {},
   "source": [
    "![image](images/um_logo.png)"
   ]
  },
  {
   "cell_type": "markdown",
   "id": "e56a4901",
   "metadata": {},
   "source": [
    "# Computación II\n"
   ]
  },
  {
   "cell_type": "markdown",
   "id": "8c696dfe",
   "metadata": {},
   "source": [
    "# ***concurrent.futures***\n",
    "https://docs.python.org/3/library/concurrent.futures.html\n",
    "\n",
    "El módulo concurrent.futures es una parte de la biblioteca estándar de Python que proporciona una interfaz de alto nivel para trabajar con tareas concurrentes y paralelas. Este módulo facilita la ejecución de funciones de forma concurrente y la administración de tareas en un conjunto de hilos o procesos.\n",
    "\n",
    "Existen dos clases principales en el módulo concurrent.futures: ThreadPoolExecutor y ProcessPoolExecutor, que permiten ejecutar funciones en hilos o procesos, respectivamente, de manera concurrente.\n",
    "\n",
    "Aquí hay una breve introducción a estas clases:\n",
    "\n",
    "### 1. ThreadPoolExecutor:\n",
    "    - ThreadPoolExecutor permite la ejecución concurrente de tareas en hilos dentro de un grupo de subprocesos.\n",
    "    - Es útil para tareas que pueden ser bloqueadas por operaciones de entrada/salida (I/O-bound), como solicitudes a una API web o lectura/escritura de archivos.\n",
    "    - Proporciona una interfaz simple para enviar tareas y recuperar sus resultados en el orden en que se completan.\n"
   ]
  },
  {
   "cell_type": "code",
   "execution_count": 2,
   "id": "802a48cd",
   "metadata": {},
   "outputs": [
    {
     "name": "stdout",
     "output_type": "stream",
     "text": [
      "PID PADRE:  33374\n",
      "num:  587  --- PID:  33374   \n",
      "<class 'concurrent.futures._base.Future'>\n",
      "num:  21  --- PID:  33374   \n",
      "True\n",
      "False\n"
     ]
    }
   ],
   "source": [
    "from concurrent.futures import ThreadPoolExecutor\n",
    "import os\n",
    "\n",
    "def prime_test(num):\n",
    "    print('num: ', num, ' --- PID: ', os.getpid(), '  ')\n",
    "    for i in range(2, abs(num)):\n",
    "        if num%i == 0:\n",
    "            return False\n",
    "    return True\n",
    "\n",
    "print('PID PADRE: ', os.getpid())\n",
    "# Crear un ThreadPoolExecutor con, por ejemplo, 4 hilos\n",
    "with ThreadPoolExecutor(max_workers=4) as executor:\n",
    "    # Enviar tareas para su ejecución concurrente\n",
    "    future1 = executor.submit(prime_test, 587)\n",
    "    future2 = executor.submit(prime_test, 21)\n",
    "    \n",
    "    # Obtener los resultados cuando están listos\n",
    "    result1 = future1.result()\n",
    "    result2 = future2.result()\n",
    "    \n",
    "    print(result1)\n",
    "    print(result2)\n"
   ]
  },
  {
   "cell_type": "markdown",
   "id": "a9dc4a25",
   "metadata": {},
   "source": [
    "### 2. ProcessPoolExecutor:\n",
    "    - ProcessPoolExecutor permite la ejecución concurrente de tareas en procesos separados, lo que es especialmente útil para tareas intensivas en CPU (CPU-bound).\n",
    "    - Cada tarea se ejecuta en su propio proceso, lo que puede aprovechar los múltiples núcleos de la CPU en sistemas multiprocesador.\n",
    "    - Al igual que ThreadPoolExecutor, proporciona una interfaz simple para enviar tareas y recuperar sus resultados."
   ]
  },
  {
   "cell_type": "code",
   "execution_count": null,
   "id": "3df394bc",
   "metadata": {},
   "outputs": [
    {
     "name": "stdout",
     "output_type": "stream",
     "text": [
      "PID PADRE:  33374\n"
     ]
    }
   ],
   "source": [
    "from concurrent.futures import ProcessPoolExecutor\n",
    "import os\n",
    "\n",
    "def prime_test(num):\n",
    "    print('num: ', num, ' --- PID: ', os.getpid(), '  ')\n",
    "    input()\n",
    "    for i in range(2, abs(num)):\n",
    "        if num%i == 0:\n",
    "            return False\n",
    "    return True\n",
    "\n",
    "print('PID PADRE: ', os.getpid())\n",
    "# Crear un ThreadPoolExecutor con, por ejemplo, 4 hilos\n",
    "with ProcessPoolExecutor(max_workers=4) as executor:\n",
    "    # Enviar tareas para su ejecución concurrente\n",
    "    \n",
    "    future1 = executor.submit(prime_test, 587)\n",
    "    future2 = executor.submit(prime_test, 21)\n",
    "\n",
    "    # Obtener los resultados cuando están listos\n",
    "    result1 = future1.result()\n",
    "    result2 = future2.result()\n",
    "    \n",
    "    print(result1)\n",
    "    print(result2)\n"
   ]
  },
  {
   "cell_type": "markdown",
   "id": "0ffd0b8d",
   "metadata": {},
   "source": [
    "### Algunos ejemplos"
   ]
  },
  {
   "cell_type": "code",
   "execution_count": null,
   "id": "b2dd2226",
   "metadata": {},
   "outputs": [],
   "source": [
    "from concurrent.futures import ThreadPoolExecutor\n",
    "\n",
    "# Función que suma un valor a un número\n",
    "def sumar(numero, valor):\n",
    "    return numero + valor\n",
    "\n",
    "# Lista de números de entrada\n",
    "numeros = [1, 2, 3, 4, 5]\n",
    "\n",
    "# Crear un ThreadPoolExecutor con, por ejemplo, 2 hilos\n",
    "with ThreadPoolExecutor(max_workers=2) as executor:\n",
    "    # Utilizar el método map para aplicar la función sumar a cada elemento de la lista\n",
    "    resultado = executor.map(sumar, numeros, [10] * len(numeros))\n",
    "\n",
    "# Obtener los resultados en forma de lista\n",
    "resultados_lista = list(resultado)\n",
    "\n",
    "# Imprimir los resultados\n",
    "print(resultados_lista)\n"
   ]
  },
  {
   "cell_type": "markdown",
   "id": "aab4dab5",
   "metadata": {},
   "source": [
    "Los objetos Future representan resultados que estarán disponibles en el futuro cuando se complete una tarea en paralelo. En este caso, utilizaremos ThreadPoolExecutor:"
   ]
  },
  {
   "cell_type": "code",
   "execution_count": null,
   "id": "76ba28ad",
   "metadata": {},
   "outputs": [],
   "source": [
    "from concurrent.futures import ThreadPoolExecutor\n",
    "\n",
    "# Función que toma un número y devuelve su cuadrado\n",
    "def calcular_cuadrado(numero):\n",
    "    return numero ** 2\n",
    "\n",
    "# Crear un ThreadPoolExecutor\n",
    "with ThreadPoolExecutor(max_workers=2) as executor:\n",
    "    # Enviar una tarea para calcular el cuadrado de 5\n",
    "    future_resultado = executor.submit(calcular_cuadrado, 5)\n",
    "\n",
    "    # Verificar si la tarea ha finalizado\n",
    "    if future_resultado.done():\n",
    "        resultado = future_resultado.result()  # Obtener el resultado\n",
    "        print(f\"Resultado: {resultado}\")\n",
    "    else:\n",
    "        print(\"La tarea aún no ha finalizado. Esperando...\")\n",
    "\n",
    "# Verificar nuevamente si la tarea ha finalizado\n",
    "if future_resultado.done():\n",
    "    resultado = future_resultado.result()\n",
    "    print(f\"Resultado final: {resultado}\")\n"
   ]
  },
  {
   "cell_type": "code",
   "execution_count": null,
   "id": "025459a8",
   "metadata": {},
   "outputs": [],
   "source": []
  }
 ],
 "metadata": {
  "kernelspec": {
   "display_name": "Python 3 (ipykernel)",
   "language": "python",
   "name": "python3"
  },
  "language_info": {
   "codemirror_mode": {
    "name": "ipython",
    "version": 3
   },
   "file_extension": ".py",
   "mimetype": "text/x-python",
   "name": "python",
   "nbconvert_exporter": "python",
   "pygments_lexer": "ipython3",
   "version": "3.10.12"
  }
 },
 "nbformat": 4,
 "nbformat_minor": 5
}
