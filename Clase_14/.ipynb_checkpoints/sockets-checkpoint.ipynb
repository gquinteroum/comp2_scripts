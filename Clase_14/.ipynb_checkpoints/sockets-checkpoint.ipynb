{
 "cells": [
  {
   "cell_type": "markdown",
   "id": "cc51d433",
   "metadata": {},
   "source": [
    "![image](images/um_logo.png)"
   ]
  },
  {
   "cell_type": "markdown",
   "id": "e56a4901",
   "metadata": {},
   "source": [
    "# Computación II\n"
   ]
  },
  {
   "cell_type": "markdown",
   "id": "8c696dfe",
   "metadata": {},
   "source": [
    "# ***Sockets II***"
   ]
  },
  {
   "cell_type": "markdown",
   "id": "3134d8a0",
   "metadata": {},
   "source": [
    "## Sockets Pasivos y Activos\n",
    "\n",
    "Se establece una distinción entre los sockets pasivos y activos en el contexto de las comunicaciones de red. Un socket pasivo corresponde a aquel que se encuentra en estado de escucha, aguardando la conexión proveniente de un socket activo. Es el tipo de socket empleado por un programa servidor que aguarda la llegada de conexiones entrantes por parte de sus clientes.\n",
    "\n",
    "Por otro lado, un socket activo denota aquel que proactivamente intenta conectarse a un socket pasivo. Este tipo de socket es el utilizado por los clientes que buscan establecer una comunicación con un servidor determinado."
   ]
  },
  {
   "cell_type": "markdown",
   "id": "4dc5d0a7",
   "metadata": {},
   "source": [
    "## Llamadas a sistema\n",
    "![image](images/llamadas_al_sistema.png)\n"
   ]
  },
  {
   "cell_type": "markdown",
   "id": "17fe9566",
   "metadata": {},
   "source": [
    "## Socket pasivo"
   ]
  },
  {
   "cell_type": "code",
   "execution_count": null,
   "id": "d141afbf",
   "metadata": {},
   "outputs": [],
   "source": [
    "import socket\n",
    "\n",
    "\n",
    "s = socket.socket(socket.AF_INET, socket.SOCK_STREAM)\n",
    "\n",
    "s.bind(('0.0.0.0', 50010))\n",
    "\n",
    "s.listen(2)\n",
    "\n",
    "conn, addr = s.accept()\n",
    "    \n",
    "#data = conn.recv(1024)\n",
    "\n",
    "#conn.sendall(data)\n",
    "\n",
    "conn.close()\n",
    "s.close()"
   ]
  },
  {
   "cell_type": "markdown",
   "id": "5777186c",
   "metadata": {},
   "source": [
    "## Socket activo"
   ]
  },
  {
   "cell_type": "code",
   "execution_count": null,
   "id": "b2017c55",
   "metadata": {},
   "outputs": [],
   "source": [
    "import socket\n",
    "\n",
    "s = socket.socket(socket.AF_INET, socket.SOCK_STREAM)\n",
    "\n",
    "s.connect(('localhost', 50010))\n",
    "    \n",
    "#data = conn.recv(1024)\n",
    "\n",
    "#conn.sendall(data)\n",
    "\n",
    "s.close()"
   ]
  }
 ],
 "metadata": {
  "kernelspec": {
   "display_name": "Python 3 (ipykernel)",
   "language": "python",
   "name": "python3"
  },
  "language_info": {
   "codemirror_mode": {
    "name": "ipython",
    "version": 3
   },
   "file_extension": ".py",
   "mimetype": "text/x-python",
   "name": "python",
   "nbconvert_exporter": "python",
   "pygments_lexer": "ipython3",
   "version": "3.10.12"
  }
 },
 "nbformat": 4,
 "nbformat_minor": 5
}
