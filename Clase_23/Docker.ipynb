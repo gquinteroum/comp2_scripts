{
 "cells": [
  {
   "cell_type": "markdown",
   "id": "cc51d433",
   "metadata": {},
   "source": [
    "![image](images/um_logo.png)"
   ]
  },
  {
   "cell_type": "markdown",
   "id": "e56a4901",
   "metadata": {},
   "source": [
    "# Computación II\n"
   ]
  },
  {
   "cell_type": "markdown",
   "id": "8c696dfe",
   "metadata": {},
   "source": [
    "# ***Docker***\n",
    "## Creando imágenes con Dockerfile\n",
    "\n",
    "### ¿Qué es un Dockerfile?\n",
    "\n",
    "Un Dockerfile es un archivo de texto plano que contiene instrucciones que permiten a Docker construir automáticamente una imagen de contenedor. Las imágenes de contenedor son como plantillas virtuales que contienen todo lo necesario para ejecutar una aplicación, incluyendo el código, las bibliotecas y las dependencias.\n",
    "\n",
    "### ¿Por qué son importantes los Dockerfiles?\n",
    "\n",
    "Los Dockerfiles son fundamentales en el mundo de la contenerización. Permiten que los desarrolladores definan el entorno de ejecución de una aplicación de manera consistente, independientemente del sistema operativo o la infraestructura subyacente. Esto significa que una aplicación que funciona en un contenedor Docker en un entorno de desarrollo también funcionará de la misma manera en un entorno de producción, lo que evita problemas de \"funciona en mi máquina pero no en la tuya\".\n",
    "\n",
    "### ¿Cómo funciona un Dockerfile?\n",
    "\n",
    "Un Dockerfile consta de una serie de instrucciones que describen cómo se debe construir una imagen de contenedor. Estas instrucciones incluyen:\n",
    "\n",
    "1. `FROM`: Especifica la imagen base a partir de la cual se construirá la nueva imagen. Por ejemplo, `FROM ubuntu` utilizará una imagen de Ubuntu como base.\n",
    "\n",
    "2. `RUN`: Ejecuta comandos en el sistema operativo base, como la instalación de paquetes, la compilación de código, etc.\n",
    "\n",
    "3. `COPY` y `ADD`: Copian archivos y directorios desde el sistema de archivos del host al sistema de archivos del contenedor.\n",
    "\n",
    "4. `WORKDIR`: Establece el directorio de trabajo dentro del contenedor para futuras instrucciones.\n",
    "\n",
    "5. `EXPOSE`: Especifica los puertos en los que la aplicación del contenedor escuchará conexiones.\n",
    "\n",
    "6. `CMD` y `ENTRYPOINT`: Define el comando que se ejecutará cuando se inicie el contenedor.\n",
    "\n",
    "### ¿Cómo se utiliza un Dockerfile?\n",
    "\n",
    "Para construir una imagen de contenedor a partir de un Dockerfile, se utiliza el comando `docker build`. Para poder utilizar la nueva implementación más potente `buildx` puede ser necesario habilitarla con `docker buildx create --use` Por ejemplo:\n",
    "\n",
    "`docker build -t hola_mundo:latest .`\n",
    "\n",
    "Este comando busca un Dockerfile en el directorio actual y utiliza las instrucciones definidas en el archivo para construir la imagen. El resultado es una imagen de contenedor que se puede ejecutar en cualquier entorno compatible con Docker.\n",
    "\n",
    "1. `FROM`: Establece la imagen base a partir de la cual se construirá la imagen Docker. Ejemplo: `FROM ubuntu:20.04`.\n",
    "\n",
    "2. `LABEL`: Permite agregar metadatos a la imagen, como el nombre del autor o información de contacto. Ejemplo: `LABEL maintainer=\"Tu Nombre <tu@email.com>\"`.\n",
    "\n",
    "3. `WORKDIR`: Define el directorio de trabajo dentro del contenedor donde se ejecutarán los comandos siguientes. Ejemplo: `WORKDIR /app`.\n",
    "\n",
    "4. `COPY` y `ADD`: Copian archivos desde el sistema local al sistema de archivos del contenedor. Ejemplo: `COPY app.py /app`.\n",
    "\n",
    "5. `RUN`: Ejecuta comandos durante la construcción de la imagen para instalar aplicaciones, dependencias o configurar la imagen. Ejemplo: `RUN apt-get update && apt-get install -y python`.\n",
    "\n",
    "6. `CMD`: Define el comando que se ejecutará cuando se inicie un contenedor basado en esta imagen. Ejemplo: `CMD [\"python\", \"app.py\"]`.\n",
    "\n",
    "7. `ENTRYPOINT`: Similar a `CMD`, define un comando predeterminado, pero permite que los usuarios sobrescriban el comando especificado al ejecutar el contenedor.\n",
    "\n",
    "8. `EXPOSE`: Indica qué puertos estarán disponibles para la comunicación desde fuera del contenedor. Ejemplo: `EXPOSE 80`.\n",
    "\n",
    "9. `ENV`: Establece variables de entorno en el contenedor. Ejemplo: `ENV MY_VARIABLE=valor`.\n",
    "\n",
    "10. `VOLUME`: Define un punto de montaje para almacenar datos persistentes o compartir datos entre contenedores.\n",
    "\n",
    "11. `USER`: Establece el usuario que se utilizará al ejecutar comandos en el contenedor. Ejemplo: `USER nombre_usuario`.\n",
    "\n",
    "12. `WORKDIR`: Define el directorio de trabajo dentro del contenedor para los comandos posteriores. Ejemplo: `WORKDIR /app`.\n",
    "\n",
    "13. `HEALTHCHECK`: Especifica un comando que verifica la salud de la aplicación en ejecución dentro del contenedor.\n",
    "\n",
    "14. `ARG`: Define argumentos que se pueden pasar al construir la imagen y que luego se pueden utilizar en el Dockerfile.\n",
    "\n",
    "15. `ONBUILD`: Especifica comandos que se ejecutarán en las imágenes que se basan en esta imagen durante su construcción.\n",
    "\n",
    "16. `STOPSIGNAL`: Define la señal que se enviará al contenedor para detenerlo de manera segura.\n",
    "\n",
    "17. `SHELL`: Permite especificar una shell diferente para ejecutar comandos en la imagen.\n",
    "\n",
    "Estas son algunas de las etiquetas más comunes en un Dockerfile, y su uso puede variar según las necesidades de la imagen que estés construyendo. Cada etiqueta cumple una función específica en el proceso de construcción y ejecución de contenedores Docker.\n",
    "\n",
    "\n"
   ]
  },
  {
   "cell_type": "markdown",
   "id": "321ebed8",
   "metadata": {},
   "source": [
    "## Creando imágenes con docker commit\n",
    "`docker commit` es un comando que te permite crear una nueva imagen a partir de un contenedor en ejecución. Esta nueva imagen se basa en el estado actual del contenedor, lo que incluye los cambios en el sistema de archivos y las configuraciones realizados desde que el contenedor se inició o desde su última commit.\n",
    "\n",
    "La sintaxis básica del comando `docker commit` es la siguiente:\n",
    "\n",
    "`docker commit [opciones] CONTENEDOR NOMBRE_DE_LA_IMAGEN[:ETIQUETA]`\n",
    "\n",
    "- __`[opciones]`:__ Puedes incluir opciones como `--change` para especificar los cambios en el contenedor y `--author` para definir el autor de la imagen.\n",
    "\n",
    "- __`CONTENEDOR`:__ Es el nombre o ID del contenedor del que deseas crear una imagen.\n",
    "\n",
    " - __`NOMBRE_DE_LA_IMAGEN`:__ Es el nombre que le darás a la nueva imagen.\n",
    "\n",
    "- __`[:ETIQUETA]`:__ Es opcional y se utiliza para especificar una etiqueta para la nueva imagen. Si no se proporciona, se usa la etiqueta \"latest\" de forma predeterminada.\n",
    "\n",
    "Por ejemplo, para crear una nueva imagen a partir de un contenedor llamado \"mi-contenedor\" y darle el nombre \"mi-imagen-personal\", se puede usar el siguiente comando:\n",
    "\n",
    "`docker commit mi-contenedor mi-imagen-personal`\n",
    "\n",
    "La nueva imagen \"mi-imagen-personal\" se creará a partir del estado actual del contenedor \"mi-contenedor\".\n",
    "\n",
    "Hay que tener en cuenta que `docker commit` se utiliza principalmente para fines de desarrollo y depuración, ya que no es la forma típica de crear imágenes en un entorno de producción. Para entornos de producción, es recomendable usar un Dockerfile y el comando `docker build` para construir imágenes de manera más controlada y reproducible.\n",
    "\n",
    "## El comando `docker save/load`\n",
    "El comando `docker save` es una utilidad en Docker que permite exportar una o varias imágenes de contenedor Docker a un archivo de tipo tar (un archivo comprimido). Esta operación es útil para compartir imágenes de Docker con otros usuarios o para copiar imágenes entre servidores Docker.\n",
    "\n",
    "La sintaxis general del comando es:\n",
    "\n",
    "`\n",
    "docker save -o archivo_salida.tar nombre_imagen[:etiqueta]`\n",
    "\n",
    "\n",
    "Donde:\n",
    "- `-o archivo_salida.tar` especifica el nombre del archivo tar de salida donde se guardarán las imágenes exportadas.\n",
    "- `nombre_imagen[:etiqueta] ...` son los nombres de las imágenes que deseas exportar, seguidos opcionalmente de etiquetas.\n",
    "\n",
    "Por ejemplo, para exportar una imagen llamada \"mi_aplicacion\" con la etiqueta \"v1.0\" a un archivo llamado \"mi_aplicacion_v1.0.tar\", el comando sería:\n",
    "\n",
    "`docker save -o mi_aplicacion_v1.0.tar mi_aplicacion:v1.0`\n",
    "\n",
    "\n",
    "Después de ejecutar el comando, se generará un archivo tar que contiene la imagen especificada. Este archivo puede ser compartido con otros usuarios o importado en otro servidor Docker utilizando el comando `docker load`.\n",
    "\n",
    "El comando `docker load` es una herramienta en Docker que permite cargar imágenes de contenedor Docker desde archivos tar (archivos comprimidos) previamente exportados utilizando el comando `docker save`. Este proceso es útil para importar imágenes en un sistema Docker desde archivos de imagen previamente exportados, como parte de la distribución de imágenes o la migración entre servidores Docker.\n",
    "\n",
    "La sintaxis general del comando es:\n",
    "\n",
    "`docker load -i archivo_entrada.tar`\n",
    "\n",
    "\n",
    "\n"
   ]
  },
  {
   "cell_type": "markdown",
   "id": "a2ffc25f",
   "metadata": {},
   "source": [
    "## Networking con Docker\n",
    "> ```apt-get install iputils-ping```\n",
    "\n",
    ">```apt-get install net-tools```\n"
   ]
  },
  {
   "cell_type": "markdown",
   "id": "d444be35",
   "metadata": {},
   "source": [
    "`docker inspect CONTENEDOR`"
   ]
  },
  {
   "cell_type": "markdown",
   "id": "9596cea2",
   "metadata": {},
   "source": [
    "### El comando docker network\n",
    "El comando `docker network` es una herramienta fundamental en Docker que permite administrar y configurar redes para contenedores Docker. Las redes en Docker son esenciales para facilitar la comunicación entre contenedores, entre contenedores y el host, aí como para exponer servicios a la red. Aquí hay una introducción impersonal a cómo funciona este comando:\n",
    "En Docker, las redes son utilizadas para permitir que los contenedores se comuniquen entre sí y con el entorno exterior. El comando `docker network` brinda la capacidad de crear, gestionar y configurar estas redes. Algunos conceptos clave relacionados con `docker network` incluyen:\n",
    "\n",
    "1. **Redes predefinidas:** Al instalar Docker, se generan de forma automática algunas redes predefinidas, como \"bridge\" (puente), \"host\" (anfitrión) y \"none\" (ninguna). La red \"bridge\" es la más común y se utiliza para conectar contenedores en una red aislada que está vinculada a la red del host.\n",
    "\n",
    "2. **Creación de redes personalizadas:** Las redes personalizadas pueden ser creadas mediante el comando `docker network create`. Esto resulta útil para aislar grupos de contenedores y configurar parámetros de red específicos.\n",
    "\n",
    "3. **Conexión de contenedores:** Es posible conectar contenedores a una red específica al momento de su creación o posteriormente. Esto posibilita que los contenedores se comuniquen entre sí a través de la red.\n",
    "\n",
    "4. **Exposición de puertos:** Las redes permiten la exposición de los puertos de los contenedores al host o al mundo exterior, lo cual es esencial para permitir el acceso a servicios que se ejecutan en contenedores, como aplicaciones web.\n",
    "\n",
    "5. **Inspección y eliminación de redes:** El comando `docker network` proporciona la capacidad de inspeccionar las configuraciones de red, listar las redes disponibles y eliminar aquellas que ya no son necesarias.\n",
    "\n",
    "6. **Utilidad en entornos orquestados:** En entornos de contenedores orquestados, como Docker Swarm o Kubernetes, las redes desempeñan un papel crítico en la conexión de contenedores en clústeres y en la provisión de servicios de red escalables.\n"
   ]
  },
  {
   "cell_type": "markdown",
   "id": "5e355b84",
   "metadata": {},
   "source": [
    "> `docker network ls`"
   ]
  },
  {
   "cell_type": "markdown",
   "id": "95d7b1f5",
   "metadata": {},
   "source": [
    "Para crear un contenedor y conectarlo a una red:\n",
    "\n",
    "`docker run --network mi_red -d --name mi_contenedor mi_imagen`\n",
    "\n",
    "Para borrar una red:\n",
    "\n",
    "`docker network rm mi_red`\n"
   ]
  },
  {
   "cell_type": "code",
   "execution_count": null,
   "id": "b8cad732",
   "metadata": {},
   "outputs": [],
   "source": []
  }
 ],
 "metadata": {
  "kernelspec": {
   "display_name": "Python 3 (ipykernel)",
   "language": "python",
   "name": "python3"
  },
  "language_info": {
   "codemirror_mode": {
    "name": "ipython",
    "version": 3
   },
   "file_extension": ".py",
   "mimetype": "text/x-python",
   "name": "python",
   "nbconvert_exporter": "python",
   "pygments_lexer": "ipython3",
   "version": "3.10.12"
  }
 },
 "nbformat": 4,
 "nbformat_minor": 5
}
