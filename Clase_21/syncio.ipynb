{
 "cells": [
  {
   "cell_type": "markdown",
   "id": "cc51d433",
   "metadata": {},
   "source": [
    "![image](images/um_logo.png)"
   ]
  },
  {
   "cell_type": "markdown",
   "id": "e56a4901",
   "metadata": {},
   "source": [
    "# Computación II\n"
   ]
  },
  {
   "cell_type": "markdown",
   "id": "8c696dfe",
   "metadata": {},
   "source": [
    "# ***Iterables e iteradores***\n",
    "\n",
    "En el contexto de la programación en Python y la teoría de la computación, un _\"iterable\"_ se refiere a un objeto que se puede recorrer secuencialmente, lo que significa que sus elementos pueden ser accedidos uno a uno en un orden específico. Los iterables son fundamentales para la construcción de bucles y para procesar colecciones de datos de manera eficiente.\n",
    "\n",
    "Las listas, así como muchas otras estructuras de datos en Python, son _\"iterables\"_, lo que significa que se pueden recorrer usando un bucle for u otras construcciones de iteración. Sin embargo, es importante destacar que aunque las listas son iterables, no son iteradores en sí mismas.\n",
    "\n",
    "La diferencia clave entre un iterable y un iterador radica en cómo se acceden a los elementos:\n",
    "\n",
    "- Iterable: Un iterable es un objeto que admite la iteración, lo que significa que puede ser recorrido secuencialmente. Los iterables se pueden convertir en iteradores, lo que permite acceder a sus elementos uno a uno, pero los iterables en sí mismos no tienen un estado interno para mantener el seguimiento de la posición actual en la secuencia.\n",
    "\n",
    "- Iterador: Un iterador, por otro lado, es un objeto que mantiene un estado interno para rastrear la posición actual en la secuencia. Un iterador se crea a partir de un iterable utilizando la función iter(), y luego puedes obtener cada elemento de la secuencia llamando a la función next() en el iterador. Los iteradores son más eficientes en términos de memoria y se utilizan para recorrer secuencias potencialmente infinitas.\n",
    "\n"
   ]
  },
  {
   "cell_type": "markdown",
   "id": "9872f8c0",
   "metadata": {},
   "source": [
    "# ***La función _iter()_***\n",
    "\n",
    "La función iter() en Python se utiliza para crear un objeto iterable (también conocido como iterador) a partir de un objeto que es iterable o que admite iteración. El propósito de **iter()** es proporcionar una forma de obtener un iterador de un objeto, lo que permite recorrer sus elementos uno a uno.\n",
    "\n",
    "El proceso general es el siguiente:\n",
    "\n",
    "1. Se llama a iter(objeto) pasando el objeto que se desea convertir en un iterable.\n",
    "\n",
    "2. La función iter() verifica si el objeto tiene un método especial llamado **`__iter__()`**. Si lo tiene, lo llama para obtener un iterador. Este método personalizado puede ser proporcionado por clases personalizadas para definir cómo se debe comportar la iteración en ese objeto.\n",
    "\n",
    "3. Si el objeto no tiene un método **`__iter__()`**, pero tiene un método **`__getitem__()`** (como en el caso de las secuencias, como listas y tuplas), entonces iter() intenta crear un iterador a partir de los elementos accediendo a ellos mediante índices.\n",
    "\n",
    "4.  Si ninguna de las opciones anteriores es válida, se genera una excepción ___TypeError___ que indica que el objeto no es iterable.\n",
    "\n"
   ]
  },
  {
   "cell_type": "code",
   "execution_count": null,
   "id": "bcf32dcb",
   "metadata": {},
   "outputs": [],
   "source": [
    "my_list = [1, 2, 3, 4, 5]\n",
    "iterable = iter(my_list)\n",
    "\n",
    "#for elemento in my_list:\n",
    "#    print(elemento)\n",
    "\n",
    "for _ in range(len(my_list)):\n",
    "    print(next(iterable))  "
   ]
  },
  {
   "cell_type": "markdown",
   "id": "8b01dd0f",
   "metadata": {},
   "source": [
    "# ***La función __next()__***\n",
    "\n",
    "En Python, next() es una función que se utiliza para obtener el próximo elemento de un iterable, como una lista, una tupla, un diccionario, un generador o cualquier objeto iterable. La función next() toma dos argumentos:\n",
    "\n",
    "1. El iterable del cual se desea obtener el próximo elemento.\n",
    "2. Un valor opcional denominado \"default\" que se utiliza para especificar qué valor debe devolver la función si el iterable se ha agotado y no hay más elementos.\n"
   ]
  },
  {
   "cell_type": "code",
   "execution_count": null,
   "id": "12cd9f06",
   "metadata": {},
   "outputs": [],
   "source": [
    "my_list = [1, 2, 3, 4, 5]\n",
    "iterable = iter(my_list)\n",
    "\n",
    "# Obtener el próximo elemento\n",
    "elemento1 = next(iterable)\n",
    "print(elemento1)  # Imprime 1\n",
    "\n",
    "# Obtener el siguiente elemento\n",
    "elemento2 = next(iterable)\n",
    "print(elemento2)  # Imprime 2\n",
    "\n",
    "# Obtener el próximo elemento usando un valor por defecto cuando se agote\n",
    "elemento3 = next(iterable, \"Fin\")\n",
    "print(elemento3)  # Imprime 3\n",
    "\n",
    "# Obtener más elementos\n",
    "elemento4 = next(iterable)\n",
    "elemento5 = next(iterable)\n",
    "\n",
    "# En este punto, el iterable se ha agotado y next() generará StopIteration si se llama nuevamente.\n"
   ]
  },
  {
   "cell_type": "markdown",
   "id": "9331d618",
   "metadata": {},
   "source": [
    "- Cuando se llama a next(iterable), la función devuelve el primer elemento del iterable. Si se llama a **next()** nuevamente en el mismo iterable, devolverá el siguiente elemento y así sucesivamente hasta que todos los elementos se hayan agotado.\n",
    "\n",
    "- Cuando el iterable se ha agotado y no hay más elementos que devolver, la función **next()** generará una excepción llamada **_StopIteration_**. Si se proporciona un valor por defecto como el segundo argumento de **next()**, la función devolverá ese valor en lugar de generar una excepción."
   ]
  },
  {
   "cell_type": "markdown",
   "id": "2b22d492",
   "metadata": {},
   "source": [
    "# ***Corrutinas***\n",
    "En el contexto de Python y asyncio, una \"corutina\" es una función especial que se utiliza para realizar tareas asincrónicas. Las corrutinas son parte fundamental de la programación asincrónica y se utilizan para realizar operaciones que pueden bloquear, como la lectura/escritura de archivos o la comunicación de red, sin bloquear todo el programa. En lugar de esperar a que una operación se complete antes de continuar, una corrutina permite que el programa continúe su ejecución.\n",
    "\n",
    "Para definir una corrutina en Python, se utiliza la palabra clave async def antes de la declaración de la función. Por ejemplo:"
   ]
  },
  {
   "cell_type": "code",
   "execution_count": null,
   "id": "1a7a4424",
   "metadata": {},
   "outputs": [],
   "source": [
    "import asyncio\n",
    "\n",
    "async def mi_corutina():\n",
    "    # Realizar operaciones asincrónicas aquí\n",
    "    await asyncio.sleep(1)\n",
    "    print(\"Corutina finalizada\")\n",
    "\n",
    "# Llamar a la corrutina\n",
    "asyncio.run(mi_corutina())\n"
   ]
  },
  {
   "cell_type": "markdown",
   "id": "c6b8cf61",
   "metadata": {},
   "source": [
    "# ***await***\n",
    "La palabra clave `await` en Python se utiliza en el contexto de la programación asincrónica para indicar que se debe esperar la finalización de una operación asincrónica antes de continuar con la ejecución del código. `await` se usa dentro de una función asincrónica (una corrutina) y generalmente se combina con llamadas a otras corrutinas o tareas asincrónicas. Cuando se encuentra una expresión `await`, Python suspende temporalmente la ejecución de la corrutina actual y permite que otras corrutinas o tareas continúen ejecutándose, lo que evita el bloqueo del programa principal.\n",
    "\n",
    "El uso de `await` se basa en el concepto de \"awaitable\", que es cualquier objeto que implementa el método `__await__()` o es una corrutina o un objeto que devuelve un valor `await`able cuando se llama a `await`. Los objetos awaitable son aquellos que representan una operación asincrónica en curso o futura.\n",
    "\n",
    "Cuando se utiliza `await`, la corrutina actual se coloca en un estado de suspensión y se programa para continuar su ejecución cuando la operación asincrónica haya finalizado. Mientras la corrutina espera, el bucle de eventos de asyncio puede ejecutar otras corrutinas o tareas, lo que permite un uso eficiente de recursos y la capacidad de manejar múltiples operaciones asincrónicas de manera concurrente sin bloquear la ejecución del programa.\n",
    "\n",
    "Un ejemplo común de uso de `await` es cuando se realiza una llamada asincrónica a una operación de entrada/salida, como la lectura de un archivo o la comunicación de red, ya que estas operaciones pueden llevar tiempo y sería ineficiente bloquear el hilo principal del programa mientras se espera su finalización.\n",
    "\n",
    "La espera que se realiza con `await` en el contexto de asyncio es, de hecho, asincrónica. Al utilizar `await`, se indica a Python que suspenda temporalmente la ejecución de la corrutina actual, lo que permite que otras corrutinas o tareas continúen su ejecución. Esta práctica evita el bloqueo del hilo principal de ejecución y permite que el bucle de eventos de asyncio gestione eficazmente otras operaciones asincrónicas.\n",
    "\n",
    "La asincronía representa una característica esencial de asyncio y de la programación asincrónica en Python en general. Proporciona la capacidad de realizar múltiples tareas concurrentemente sin afectar la ejecución principal y resulta especialmente útil para operaciones que pueden requerir tiempo, como las de entrada/salida o la comunicación de red."
   ]
  },
  {
   "cell_type": "code",
   "execution_count": null,
   "id": "189cd802",
   "metadata": {},
   "outputs": [],
   "source": [
    "import asyncio\n",
    "\n",
    "async def mi_corutina():\n",
    "    print(\"Comenzando la corrutina\")\n",
    "    await asyncio.sleep(2)  # Esperar asincrónicamente durante 2 segundos\n",
    "    print(\"Corrutina finalizada\")\n",
    "\n",
    "# Llamar a la corrutina principal\n",
    "asyncio.run(mi_corutina())\n"
   ]
  },
  {
   "cell_type": "markdown",
   "id": "4e170773",
   "metadata": {},
   "source": [
    "# ***task***\n",
    "Las tareas (tasks) en asyncio también se pueden llamar usando await. En asyncio, una tarea es un objeto que representa la ejecución de una corrutina o una función asincrónica. Puedes utilizar await para esperar la finalización de una tarea antes de continuar con la ejecución de la corrutina actual. Esto es especialmente útil cuando tienes múltiples tareas en paralelo y deseas esperar a que se completen antes de proceder."
   ]
  },
  {
   "cell_type": "markdown",
   "id": "80bbf516",
   "metadata": {},
   "source": [
    "# Streams\n",
    "\n",
    "https://docs.python.org/3/library/asyncio-stream.html\n",
    "\n",
    "Las primitivas __asyncio.Streams__ son componentes esenciales del módulo asyncio en Python, diseñadas para simplificar la lectura y escritura asincrónica de datos, especialmente en operaciones de red. Estas primitivas proporcionan una abstracción de alto nivel para trabajar con conexiones de red, permitiendo enviar y recibir datos sin la necesidad de usar callbacks o lidiar con protocolos y transportes de bajo nivel.\n",
    "\n",
    "Las características destacadas de las primitivas __asyncio.Streams__ incluyen:\n",
    "\n",
    "1. Operaciones Asincrónicas: permite realizar operaciones de lectura y escritura de datos de manera asincrónica, lo que permite realizar múltiples operaciones de E/S concurrentemente sin bloquear el hilo principal de ejecución.\n",
    "\n",
    "2. Simplicidad: Simplifica en gran medida la programación asincrónica al proporcionar una interfaz simple y orientada a objetos para trabajar con flujos de datos.\n",
    "\n",
    "3. Manejo de Errores: Ofrece un sólido manejo de errores para detectar y gestionar problemas de E/S, como desconexiones inesperadas o errores de lectura/escritura.\n",
    "\n",
    "4. Compatibilidad con Protocolos: Puede integrarse fácilmente con protocolos de comunicación personalizados o utilizarse con protocolos estándar, como TCP/IP o WebSocket.\n",
    "\n",
    "5. Eficiencia: Están diseñadas para ser eficientes y adecuadas para aplicaciones de alto rendimiento.\n",
    "\n",
    "6. Flexibilidad: Son versátiles y se pueden utilizar en una variedad de aplicaciones, como servidores web, aplicaciones de mensajería en tiempo real, servicios de transmisión de datos y más."
   ]
  },
  {
   "cell_type": "code",
   "execution_count": null,
   "id": "f11269e4",
   "metadata": {},
   "outputs": [],
   "source": [
    "#Cliente\n",
    "\n",
    "import asyncio\n",
    "\n",
    "async def tcp_echo_client(message):\n",
    "    reader, writer = await asyncio.open_connection(\n",
    "        '127.0.0.1', 8888)\n",
    "\n",
    "    print(f'Send: {message!r}')\n",
    "    writer.write(message.encode())\n",
    "    await writer.drain()\n",
    "\n",
    "    data = await reader.read(100)\n",
    "    print(f'Received: {data.decode()!r}')\n",
    "\n",
    "    print('Close the connection')\n",
    "    writer.close()\n",
    "    await writer.wait_closed()\n",
    "\n",
    "asyncio.run(tcp_echo_client('Hello World!'))"
   ]
  },
  {
   "cell_type": "code",
   "execution_count": null,
   "id": "d8a7c627",
   "metadata": {},
   "outputs": [],
   "source": [
    "# Servidor\n",
    "import asyncio\n",
    "\n",
    "async def handle_echo(reader, writer):\n",
    "    data = await reader.read(100)\n",
    "    message = data.decode()\n",
    "    addr = writer.get_extra_info('peername')\n",
    "\n",
    "    print(f\"Received {message!r} from {addr!r}\")\n",
    "\n",
    "    print(f\"Send: {message!r}\")\n",
    "    writer.write(data)\n",
    "    await writer.drain()\n",
    "\n",
    "    print(\"Close the connection\")\n",
    "    writer.close()\n",
    "    await writer.wait_closed()\n",
    "\n",
    "async def main():\n",
    "    server = await asyncio.start_server(\n",
    "        handle_echo, '127.0.0.1', 8888)\n",
    "\n",
    "    addrs = ', '.join(str(sock.getsockname()) for sock in server.sockets)\n",
    "    print(f'Serving on {addrs}')\n",
    "\n",
    "    async with server:\n",
    "        await server.serve_forever()\n",
    "\n",
    "asyncio.run(main())"
   ]
  }
 ],
 "metadata": {
  "kernelspec": {
   "display_name": "Python 3 (ipykernel)",
   "language": "python",
   "name": "python3"
  },
  "language_info": {
   "codemirror_mode": {
    "name": "ipython",
    "version": 3
   },
   "file_extension": ".py",
   "mimetype": "text/x-python",
   "name": "python",
   "nbconvert_exporter": "python",
   "pygments_lexer": "ipython3",
   "version": "3.10.12"
  }
 },
 "nbformat": 4,
 "nbformat_minor": 5
}
